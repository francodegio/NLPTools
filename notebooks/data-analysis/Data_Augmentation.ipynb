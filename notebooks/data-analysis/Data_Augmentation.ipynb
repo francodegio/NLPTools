{
 "cells": [
  {
   "cell_type": "markdown",
   "metadata": {},
   "source": [
    "# Data Augmentation\n",
    "\n",
    "In this notebooks we'll develop the functions required to change tagged and untagged strings from a text in order to recreate a bigger dataset. It is imperative to retain the information of the tags, that may change due to differences in lenght.\n",
    "\n",
    "## Imports\n",
    "### Libraries"
   ]
  },
  {
   "cell_type": "code",
   "execution_count": 48,
   "metadata": {},
   "outputs": [],
   "source": [
    "import re, os, json, pickle\n",
    "import spacy\n",
    "from spacy import displacy\n",
    "import pandas as pd\n",
    "import numpy as np"
   ]
  },
  {
   "cell_type": "markdown",
   "metadata": {},
   "source": [
    "### Datasets"
   ]
  },
  {
   "cell_type": "code",
   "execution_count": 49,
   "metadata": {},
   "outputs": [],
   "source": [
    "data_dir = '../../data/estatutos/tagged/spacy_dataset_2020-5-6.pkl'"
   ]
  },
  {
   "cell_type": "code",
   "execution_count": 50,
   "metadata": {},
   "outputs": [],
   "source": [
    "with open(data_dir, 'rb') as file:\n",
    "    dataset = pickle.load(file)"
   ]
  },
  {
   "cell_type": "markdown",
   "metadata": {},
   "source": [
    "## Dataset structure and objective function\n",
    "As we can see below, we have a dictionary with the name of the document as keys and more dictionaries as values.\n",
    "The structure is as follows:\n",
    "```python\n",
    "{\n",
    "    \"company_name\" :{\n",
    "        \"doc_id\" : \"original_name\",\n",
    "        \"pages\" : {\n",
    "            'page_number': {\n",
    "                'text_body_coords': [\n",
    "                    [int, int],\n",
    "                    [int, int],\n",
    "                    [int, int],\n",
    "                    [int, int]\n",
    "                ],\n",
    "                'lectura': 'text_containing in that page'\n",
    "            }\n",
    "        },\n",
    "        'text' : 'the concatenated text string of every page',\n",
    "        'entities': {\n",
    "            'search': ['list', 'of', 'entities', 'available', 'to', 'tag'],\n",
    "            'tags': [\n",
    "                {\n",
    "                    'tag': 'name_of_tag',\n",
    "                    'start': int, # where the entity starts on the string\n",
    "                    'finish': int, # same logic as above\n",
    "                    'text': 'string', # with the slice of the text marked before\n",
    "                    'value': 'string', # what it would look like after parsing\n",
    "                    'extra1': 'string', # not used\n",
    "                    'extra2': 'string', #not used\n",
    "                    'index': int, # for multi entity tags\n",
    "                }\n",
    "            ]\n",
    "        }\n",
    "         \n",
    "    }\n",
    "\n",
    "}\n",
    "```"
   ]
  },
  {
   "cell_type": "markdown",
   "metadata": {},
   "source": [
    "#### We're interested in modifying this part\n",
    "```python\n",
    "{\n",
    "    'doc_id' : 'original_name',\n",
    "    'pages' : {\n",
    "        'page_number': {\n",
    "            'text_body_coords': [\n",
    "                [int, int],\n",
    "                [int, int],\n",
    "                [int, int],\n",
    "                [int, int]\n",
    "            ],\n",
    "            'lectura': 'text_containing in that page'\n",
    "        }\n",
    "    },\n",
    "    'text' : 'the concatenated text string of every page',\n",
    "    'entities': {\n",
    "        'search': ['list', 'of', 'entities', 'available', 'to', 'tag'],\n",
    "        'tags': [\n",
    "            {\n",
    "                'tag': 'name_of_tag',\n",
    "                'start': int, # where the entity starts on the string\n",
    "                'finish': int, # same logic as above\n",
    "                'text': 'string', # with the slice of the text marked before\n",
    "                'value': 'string', # what it would look like after parsing\n",
    "                'extra1': 'string', # not used\n",
    "                'extra2': 'string', #not used\n",
    "                'index': int, # for multi entity tags\n",
    "            }\n",
    "        ]\n",
    "    }\n",
    "}\n",
    "```\n",
    "\n",
    "\n",
    "#### In order to achieve this, we'll create a class that takes as input that dictionary and modifies accordingly."
   ]
  },
  {
   "cell_type": "code",
   "execution_count": 51,
   "metadata": {},
   "outputs": [],
   "source": [
    "d1 = dataset['confecom_srl.']"
   ]
  },
  {
   "cell_type": "markdown",
   "metadata": {},
   "source": [
    "##### We delete the key that will not be currently used"
   ]
  },
  {
   "cell_type": "code",
   "execution_count": 5,
   "metadata": {},
   "outputs": [
    {
     "data": {
      "text/plain": [
       "{'0': {'text_body_coords': [[237, 348],\n",
       "   [1178, 332],\n",
       "   [260, 1686],\n",
       "   [1201, 1671]],\n",
       "  'lectura': 'O DE SOCIEDAD DE RESPONSABILIDAD LIMITADA. “CONFECOM S.\\n\\n12)\\n\\n \\n\\nROA, argentina, casada en primeras nupcias con Raul Alberto LESCA-\\n\\nNO, nacida el 10 de marzo de 1966, comerciante, titular del docu-\\nmento nacional de identidad número 17.636.488, C.U.I.T.: 27-\\n17636488-8, y Yamila Belén LESCANO, argentina, soltera, nacida el\\n6 de marzo de 1998, comerciante, titular del documento nácional de\\nidentidad número 41.048.026, C.U.I.L.: 27-41048026-9, ambos domici-\\nliados en Pico 4785, Ciudad Autónoma de Buenos Aires; resuelven de-\\njar constituida una sociedad de responsabilidad limitada que se re-\\n\\ngirá por la Ley número 19.550/22.903 y el siguiente estatuto:\\n\\nPRIMERA: La sociedad se denomina: \"CONFECOM S.R.L.\"” y tiene su do-\\nmicilio legal en jurisdicción de la Ciudad Autónoma de Buenos Ai-\\nres, pudiendo establecer agencias o sucursales en cualquier lugar\\n\\ndel país o del extranjero.-\\n\\nSEGUNDA: Su duración es de 99 años contados a partir de la inscrip-\\n\\nción en el Registro Público de Comercio. -\\n\\nTERCERA: La sociedad tiene por objeto realizar por cuenta propia o\\nde terceros, en forma independiente o asociadas a terceros, dentro\\no fuera de la República Argentina a las siguientes actividades:\\nCompraventa, importación, exportación, comercialización, represen-\\ntación, fabricación, refacción, composición, confección, depósi-\\nto, transporte, despacho e industrialización de todo tipo de ropa,\\nindumentaria, calzado y sus derivados, botonería, mercería, artícu-\\nlos textiles, materias primas, productos y subproductos destinados\\na la industria del vestido, y demás prendas y accesorios inheren-\\ntes al ramo. Para el cumplimiento del objeto social, la sociedad\\ntendrá plena capacidad jurídica para adquirir derechos y contraer\\nobligaciones y ejercer actos que no sean prohibidos por las leyes\\n\\no este estatuto.-\\n\\nCUARTA: El capital social se fija en la suma de pesos CINCUENTA\\nmil ($50.000) dividido en 5.000 cuotas de valor nominal $ 10 cada'},\n",
       " '1': {'text_body_coords': [[106, 302], [1040, 307], [98, 1651], [1032, 1656]],\n",
       "  'lectura': 'en un 23 por ciento y el resto se integrará dentro de los plazos\\n\\nlegales.-\\n\\nQUINTA: La administración y representación legal estará a cargo de\\nuno o más gerentes, socios o no, en forma individual e indistinta,\\npor el plazo de duración de la sociedad. En tal carácter tienen to-\\ndas las facultades para realizar los actos y contratos tendientes\\nal cumplimiento del objeto de la sociedad, inclusive los previstos\\nen los artículos 375, del Código Civil y Comercial, y 9 del Decre-\\nto ley 5.965/63.- Los gerentes garantizarán su gestión mediante la\\nconstitución de una garantía del tipo, modalidades y de los montos\\nno inferiores a los establecidos en las resoluciones vigentes de\\nla autoridad administrativa de control y las que se dicten con pos-\\n\\nterioridad.-\\n\\nSEXTA: Las resoluciones sociales se adoptarán en la forma dispues-\\nta en los arts. 159, primera parte párrafo segundo de la ley\\n19550.- Rigen las mayorías previstas en el art. 160 de la ley 19.\\n550.- y cada cuota da derecho a un voto. Toda comunicación o cita-\\nción a los socios se sujetará a lo dispuesto en el art. 159 último\\n\\npárrafo de la ley citada.-\\n\\nSEPTIMA: Las cuotas son transmisibles rigiendo las disposiciones\\ndel art. 153 de la ley 19.550, dejando constancia que para la ven-\\nta a extraños a la sociedad se requerirá la conformidad de la mayo-\\nría del capital, estableciendo a favor de los restantes socios un\\nderecho de preferencia en la compra de las cuotas sociales que se\\nvendan.-\\n\\nOCTAVA: El ejercicio social cierra el 31 de Marzo de cada año, a\\ncuya fecha se realizara el balance general que se pondrá a disposi-\\nción de los socios con no menos de 15 días de anticipación a su\\nconsideración.-\\n\\nNOVENA: De las utilidades liquidas y realizadas se destinarán: a)\\nEl 5% al fondo de reserva legal, hasta alcanzar el 20% del capital\\nsocial.- b)El importe que se establezca para retribución de los ge-\\nrentes y Cc) El remanente previa deducción de cualquier otra reser-\\nva que los socios dispusieran constituir, se distribuirá entre los\\nmismos en proporción al capital integrado.-\\n\\nDECIMA: Disuelta la sociedad por cualquiera de ¡as causales previs-\\ntas en el artículo 94 de la ley 19.550.-, la liquidación será prac-'},\n",
       " '2': {'text_body_coords': [[631, 318],\n",
       "   [1171, 345],\n",
       "   [590, 1153],\n",
       "   [1130, 1180]],\n",
       "  'lectura': 'la Ciudad Autónoma de\\n\\na veintidós de febrero de dos\\n\\nargentina,\\n\\nescribano autorizante comparecen : Dora\\n\\nna, nacida e1 10 de marzo de 1966, casada\\n\\n\\'on Raul Alberto Lescano». comerciante,\\n\\nentidad 17.636.488, CO ER 27-17636488-\\n\\nnacida el 6 de marzo d\\n\\nANO, argentina,\\n\\nte, Documento Nacional de Identidad 41.048\\n\\n1026-9», ambas con «Aomicilio real en Pic\\n\\npersonas que identifico de acuerdo\\n\\nya relacionada que en copia autentica:\\n\\nINTERVIENEN por si y manifiestan ser soci\\n\\n-iedad denominada \"* CONFECOM s.R.b.”,. <'}}"
      ]
     },
     "execution_count": 5,
     "metadata": {},
     "output_type": "execute_result"
    }
   ],
   "source": [
    "d1.pop('pages')"
   ]
  },
  {
   "cell_type": "markdown",
   "metadata": {},
   "source": [
    "### Visualization\n",
    "We'll create a simple function to transform data to be displayed in notebooks or html using displacy. To achieve this, the final shape of the dictionary should be:\n",
    "\n",
    "```python\n",
    "{\n",
    "    \"text\": \"But Google is starting from behind.\",\n",
    "    \"ents\": [{\"start\": 4, \"end\": 10, \"label\": \"ORG\"}],\n",
    "    \"title\": None\n",
    "}\n",
    "```"
   ]
  },
  {
   "cell_type": "code",
   "execution_count": 6,
   "metadata": {},
   "outputs": [
    {
     "data": {
      "text/plain": [
       "['firmantes_nombre',\n",
       " 'firmantes_dni',\n",
       " 'socios_nombre',\n",
       " 'razon_social',\n",
       " 'tipicidad',\n",
       " 'vigencia',\n",
       " 'capital',\n",
       " 'num_escritura',\n",
       " 'fecha_contrato',\n",
       " 'mandato_dir',\n",
       " 'tipo_rep_legal',\n",
       " 'facultades_firm',\n",
       " 'aporte_socios',\n",
       " 'fecha_cierre_ejercicio',\n",
       " 'objeto_social',\n",
       " 'cargo_firmantes',\n",
       " 'legal_domicilio',\n",
       " 'sede_domicilio',\n",
       " 'firma_domicilio',\n",
       " 'poderes_especiales',\n",
       " 'reservas_legales',\n",
       " 'garantias_directorio',\n",
       " 'aumentos_capital',\n",
       " 'firmante_domicilio',\n",
       " 'firmante_familiar',\n",
       " 'fecha_nacimiento',\n",
       " 'fecha_final_doc']"
      ]
     },
     "execution_count": 6,
     "metadata": {},
     "output_type": "execute_result"
    }
   ],
   "source": [
    "d1['entities'].pop('search')"
   ]
  },
  {
   "cell_type": "markdown",
   "metadata": {},
   "source": [
    "### We check our output"
   ]
  },
  {
   "cell_type": "code",
   "execution_count": 14,
   "metadata": {},
   "outputs": [],
   "source": [
    "class TaggedDoc:\n",
    "    def __init__(self, document):\n",
    "        self.document = document\n",
    "        self.spacy_ents = self._displacy_transform().get('ents')\n",
    "        self.title = document.get('doc_id')\n",
    "        self.ents = document.get('entities').get('tags')\n",
    "        self.text = document.get('text')\n",
    "        self.text_len = len(self.text)\n",
    "        self.ents_df = pd.DataFrame(self.ents)\n",
    "        \n",
    "    def _displacy_transform(self) -> dict:\n",
    "        ent_list = []\n",
    "        for tag in self.document['entities']['tags']:\n",
    "            ent_list.append(\n",
    "                {\n",
    "                    'start' : tag.get('start'),\n",
    "                    'end' : tag.get('end'),\n",
    "                    'label': tag.get('tag')\n",
    "                }\n",
    "            )\n",
    "\n",
    "        return {\n",
    "            'text' : self.document.get('text'),\n",
    "            'ents' : ent_list,\n",
    "            'title' : self.document.get('doc_id') \n",
    "        }\n",
    "    \n",
    "    def render(self, style='ent', jupyter=True, manual=True, page=False):\n",
    "        displacy.render(self._displacy_transform(), style=style, jupyter=jupyter, manual=manual, page=page)\n",
    "        \n",
    "        \n",
    "    def index_augmentation(df_new_ents):\n",
    "        new_ents = df_new_ents.copy()\n",
    "        new_ents = new_ents.sort_values('start')\n",
    "        new_ents.index = range(new_ents.shape[0])\n",
    "        new_ents['len'] = new_ents.text.apply(len)\n",
    "        new_ents['new_len'] = new_ents.new_text.apply(len)\n",
    "        new_ents['diff'] = new_ents['new_len'] - new_ents['len']\n",
    "        indecis = new_ents.loc[new_ents.diff != 0].index.to_list()\n",
    "\n",
    "        for index in indecis:\n",
    "            diff = new_ents.loc[index, 'diff']\n",
    "            new_ents.loc[index, 'end'] = new_ents.loc[index, 'end'] + diff\n",
    "            new_ents.loc[index+1:,'start'] = new_ents.loc[index+1:,'start'] + diff\n",
    "            new_ents.loc[index+1:,'end'] = new_ents.loc[index+1:,'end'] + diff\n",
    "\n",
    "        return [tagged_entity for tagged_entity in new_ents.T.to_dict().values()]\n",
    "    \n",
    "    "
   ]
  },
  {
   "cell_type": "code",
   "execution_count": 15,
   "metadata": {},
   "outputs": [],
   "source": [
    "doc = TaggedDoc(d1)"
   ]
  },
  {
   "cell_type": "code",
   "execution_count": 17,
   "metadata": {},
   "outputs": [
    {
     "data": {
      "text/plain": [
       "[{'start': 312, 'end': 330, 'label': 'fecha_nacimiento'},\n",
       " {'start': 138, 'end': 157, 'label': 'fecha_nacimiento'},\n",
       " {'start': 106, 'end': 126, 'label': 'firmante_familiar'},\n",
       " {'start': 223, 'end': 233, 'label': 'firmantes_dni'},\n",
       " {'start': 261, 'end': 281, 'label': 'firmantes_nombre'},\n",
       " {'start': 396, 'end': 406, 'label': 'firmantes_dni'},\n",
       " {'start': 438, 'end': 496, 'label': 'firmante_domicilio'},\n",
       " {'start': 529, 'end': 565, 'label': 'tipicidad'},\n",
       " {'start': 669, 'end': 685, 'label': 'razon_social'},\n",
       " {'start': 736, 'end': 767, 'label': 'legal_domicilio'},\n",
       " {'start': 884, 'end': 886, 'label': 'vigencia'},\n",
       " {'start': 973, 'end': 1766, 'label': 'objeto_social'},\n",
       " {'start': 1822, 'end': 1845, 'label': 'capital'},\n",
       " {'start': 2081, 'end': 2104, 'label': 'tipo_rep_legal'},\n",
       " {'start': 2113, 'end': 2145, 'label': 'mandato_dir'},\n",
       " {'start': 2146, 'end': 2382, 'label': 'facultades_firm'},\n",
       " {'start': 2384, 'end': 2642, 'label': 'garantias_directorio'},\n",
       " {'start': 3367, 'end': 3378, 'label': 'fecha_cierre_ejercicio'},\n",
       " {'start': 3549, 'end': 3912, 'label': 'reservas_legales'}]"
      ]
     },
     "execution_count": 17,
     "metadata": {},
     "output_type": "execute_result"
    }
   ],
   "source": [
    "doc.spacy_ents"
   ]
  },
  {
   "cell_type": "markdown",
   "metadata": {},
   "source": [
    "--------------------------------------------------------------------\n",
    "## Augmentation functions\n",
    "There are 2 main functions to be developed:\n",
    "1) One or more that create random entities.\n",
    "\n",
    "2) Another that plugs the new entities into the original text and keeps track of the positions.\n",
    "\n",
    "\n",
    "We need to create one or more functions that generate new entities.\n",
    "- Name generator: from AFIP\n",
    "- ~Date generator: 3 different formats, 366 days = 1098 possibilities.~\n",
    "- ~Vigencia generator: both spelled and numerical~ \n",
    "- Tipicidad generator: 3 types, 6 categories, rather easy.\n",
    "- ~Fecha cierre ejercicio generator: spelled, numerical and mixed.~\n",
    "- ~Mandato dir generator: written years, fiscal years, numeric, mixed and different types of undefined.~\n",
    "- Razon Social generator: from AFIP\n",
    "- Capital generator: might be tricky\n",
    "- ~DNI generator: from AFIP~ Random\n",
    "\n",
    "The rather complicated part is to match strings with different lenghts into the text without loosing track of the position of the others.\n",
    "\n",
    "### 1) Synthetic Dates\n",
    "We are going to generate 2 functions:\n",
    "- One to create dates within a certain time interval.\n",
    "- The other to change the level of formality"
   ]
  },
  {
   "cell_type": "code",
   "execution_count": 59,
   "metadata": {},
   "outputs": [
    {
     "name": "stderr",
     "output_type": "stream",
     "text": [
      "/usr/local/lib/python3.7/dist-packages/ipykernel_launcher.py:2: TqdmExperimentalWarning: Using `tqdm.autonotebook.tqdm` in notebook mode. Use `tqdm.tqdm` instead to force console mode (e.g. in jupyter console)\n",
      "  \n"
     ]
    }
   ],
   "source": [
    "import datetime, random\n",
    "from tqdm.autonotebook import tqdm, trange"
   ]
  },
  {
   "cell_type": "code",
   "execution_count": 60,
   "metadata": {},
   "outputs": [],
   "source": [
    "def random_date_generator(start_year:int=1900, end_year:int=2050, start_month:int=1, end_month:int=12, start_day:int=1, end_day:int=31, mapper:dict=None, seed:int=None) -> datetime.date:\n",
    "    if mapper:\n",
    "        start_year = mapper['start_year']\n",
    "        end_year = mapper['end_year']\n",
    "        start_month = mapper['start_month']\n",
    "        end_month = mapper['end_month']\n",
    "        start_day = mapper['start_day']\n",
    "        end_day = mapper['end_day']\n",
    "    \n",
    "    if seed:\n",
    "        random.seed(seed)\n",
    "        \n",
    "    start_date = datetime.date(start_year, start_month, start_day)\n",
    "    end_date = datetime.date(end_year, end_month, end_day)\n",
    "    time_between_dates = end_date - start_date\n",
    "    days_between_dates = time_between_dates.days\n",
    "    random_number_of_days = random.randrange(days_between_dates)\n",
    "    random_date = start_date + datetime.timedelta(days=random_number_of_days)\n",
    "    \n",
    "    return random_date"
   ]
  },
  {
   "cell_type": "code",
   "execution_count": 61,
   "metadata": {},
   "outputs": [],
   "source": [
    "from num2words import num2words\n",
    "def date_formatter(date: datetime.date, formality: str = 'veryformal', include_year: bool = True) -> str:\n",
    "    \n",
    "    formality_list = ['basic', 'basic2', 'mixed', 'mixed2', 'regular', 'formal', 'veryformal', 'random']\n",
    "    \n",
    "    if formality not in formality_list:\n",
    "        raise KeyError(f'Keyword `{formality}` not found. Argument `formality` must be one of {formality_list}.')\n",
    "    elif formality == 'random':\n",
    "        formality = formality_list[random.randint(0,5)]\n",
    "    \n",
    "    month_mapper = {\n",
    "        '01':'Enero',\n",
    "        '02':'Febrero',\n",
    "        '03':'Marzo',\n",
    "        '04':'Abril',\n",
    "        '05':'Mayo',\n",
    "        '06':'Junio',\n",
    "        '07':'Julio',\n",
    "        '08':'Agosto',\n",
    "        '09':'Septiembre',\n",
    "        '10':'Octubre',\n",
    "        '11':'Noviembre',\n",
    "        '12':'Diciembre'}\n",
    "\n",
    "    day = f'{date.day}' if len(str(date.day)) > 1 else f'0{date.day}'\n",
    "    month = f'{date.month}' if len(str(date.month)) > 1 else f'0{date.month}'\n",
    "    \n",
    "    if formality not in ['basic', 'basic2']:\n",
    "        day_words = num2words(day, lang='es', to='cardinal') if formality != 'veryformal' else num2words(day, lang='es', to='ordinal')\n",
    "        month_words = month_mapper[month]\n",
    "    \n",
    "    if include_year:\n",
    "        year = f'{date.year}'    \n",
    "        year_words = num2words(year, lang='es')\n",
    "    \n",
    "    format_mapper = {\n",
    "        'basic': f'{day}-{month}-{year}' if include_year else f'{day}-{month}',\n",
    "        'basic2': f'{day}/{month}/{year}' if include_year else f'{day}/{month}',\n",
    "        'mixed': f'{day} de {month_words} de {year}' if include_year else \\\n",
    "                 f'{day} de {month_words}',\n",
    "        'mixed2':f'{day} de {month_words} de {year_words}' if include_year else \\\n",
    "                 f'{day} de {month_words}',\n",
    "        'regular': f'{day_words} de {month_words} de {year_words}' if include_year else \\\n",
    "                   f'{day_words} de {month_words}',\n",
    "        'formal': f'{day_words} del mes de {month_words} de {year_words}' if include_year\\\n",
    "                  else f'{day_words} del mes de {month_words}',\n",
    "        'veryformal': f'{day_words} día del mes de {month_words} del año {year_words}' \\\n",
    "                    if include_year else f'{day_words} días del mes de {month_words}'\n",
    "    }\n",
    "    result = format_mapper[formality]\n",
    "    \n",
    "    return result"
   ]
  },
  {
   "cell_type": "markdown",
   "metadata": {},
   "source": [
    "### 2) Index augmentation\n",
    "\n",
    "This function allows us to mantain the relationship between the slices of each entity. For every extra character replaced, the following entities change their start and finish values. The same happens if the new string is shorter."
   ]
  },
  {
   "cell_type": "code",
   "execution_count": 47,
   "metadata": {},
   "outputs": [],
   "source": [
    "\"\"\" Here you can find a suite of tools to work with tagged documents. You can render them or \n",
    "    create synthetic documents to supersample your dataset.\n",
    "\n",
    "Classes\n",
    "-------\n",
    "- TaggedDoc\n",
    "    Intended to open tagged documents using the Text Tag Tool.\n",
    "\"\"\"\n",
    "\n",
    "import pandas as pd\n",
    "from spacy import displacy\n",
    "\n",
    "\n",
    "class TaggedDoc:\n",
    "    \"\"\"\n",
    "        Takes a tagged document in dictionary format and creates an object.\n",
    "    \n",
    "    Attributes\n",
    "    --------\n",
    "    - TaggedDoc.document\n",
    "        Returns the same dictionary that was provided.\n",
    "    - TaggedDoc.displacy_ents\n",
    "        Returns a list of dictionaries with every entity tagged. Each dictionary contains keys: \n",
    "        `start`, `end` and `label`.\n",
    "    - TaggedDoc.title\n",
    "        Returns the `doc_id` of the document provided.\n",
    "    - TaggedDoc.text\n",
    "        Returns the entire text of the document provided.\n",
    "    - TaggedDoc.text_len\n",
    "        Returns the lenght of the document measured in characters.\n",
    "    - TaggedDoc.ents_df\n",
    "        Returns a pandas.DataFrame object with the entities tagged.\n",
    "\n",
    "    Methods\n",
    "    -------\n",
    "    - TaggedDoc.render\n",
    "    - TaggedDoc.index_augmentation\n",
    "\n",
    "\n",
    "    \n",
    "    \"\"\"\n",
    "    def __init__(self, document):\n",
    "        if not isinstance(document, dict):\n",
    "            raise TypeError(f'This class only takes a dictionary as input. You provided a {type(document)}.')\n",
    "        elif [key for key in ['doc_id', 'text', 'entities'] if key not in document.keys()]:\n",
    "            raise KeyError('The dictionary must contain the keys `doc_id`, `text` and `entities`.')\n",
    "        else:\n",
    "            self.document = document\n",
    "            self.displacy_format = self._displacy_transform()\n",
    "            self.displacy_ents = self.displacy_format.get('ents')\n",
    "            self.title = document.get('doc_id')\n",
    "            self.ents = document.get('entities').get('tags')\n",
    "            self.text = document.get('text')\n",
    "            self.text_len = len(self.text)\n",
    "            self.ents_df = pd.DataFrame(self.ents, index=[self.title for x in range(len(self.ents))])\n",
    "\n",
    "\n",
    "    def _displacy_transform(self) -> dict:\n",
    "        ent_list = []\n",
    "        if not isinstance(self.document['entities'], dict):\n",
    "            raise TypeError(f\"The dictionary provided does not contain a dictionary with it's entities tagged.\\\n",
    "                 You provided a {type(self.document['entities'])} instead.\")\n",
    "        \n",
    "        elif 'tags' not in self.document['entities'].keys():\n",
    "            raise KeyError(f\"You provided a dictionary without the key 'tags'\")\n",
    "        \n",
    "        else:\n",
    "            for tag in self.document['entities'].get('tags'):\n",
    "                ent_list.append(\n",
    "                    {\n",
    "                        'start' : tag.get('start'),\n",
    "                        'end' : tag.get('end'),\n",
    "                        'label': tag.get('tag')\n",
    "                    }\n",
    "                )\n",
    "\n",
    "            return {\n",
    "                'text' : self.document.get('text'),\n",
    "                'ents' : ent_list,\n",
    "                'title' : self.document.get('doc_id') \n",
    "            }\n",
    "    \n",
    "    \n",
    "    def render(self, style='ent', jupyter=True, manual=True, page=False):\n",
    "        for _ in self.displacy_format.get('ents'):\n",
    "            if not _.get('start') or not _.get('end') or not _.get('label'):\n",
    "                to_render = {'text': 'Esto es un texto completo con entidades, pero vos no sabes de donde sacarlo.',\n",
    "                             'ents': [{'start': 46, 'end': 49, 'label': 'GIL'}],\n",
    "                             'title': 'Por favor leé la documentación.'}\n",
    "                break\n",
    "            else:\n",
    "                to_render = self.displacy_format\n",
    "                break\n",
    "        displacy.render(to_render, style=style, jupyter=jupyter, manual=manual, page=page)        \n",
    "\n",
    "\n",
    "    def index_augmentation(self):\n",
    "        new_ents = self.ents_df.copy() # careful with this\n",
    "        new_ents = new_ents.sort_values('start')\n",
    "        new_ents.index = range(new_ents.shape[0])\n",
    "        new_ents['len'] = new_ents.text.apply(len)\n",
    "        new_ents['new_len'] = new_ents.new_text.apply(len)\n",
    "        new_ents['diff'] = new_ents['new_len'] - new_ents['len']\n",
    "        indecis = new_ents.loc[new_ents.diff != 0].index.to_list()\n",
    "\n",
    "        for index in indecis:\n",
    "            diff = new_ents.loc[index, 'diff']\n",
    "            new_ents.loc[index, 'end'] = new_ents.loc[index, 'end'] + diff\n",
    "            new_ents.loc[index+1:,'start'] = new_ents.loc[index+1:,'start'] + diff\n",
    "            new_ents.loc[index+1:,'end'] = new_ents.loc[index+1:,'end'] + diff\n",
    "\n",
    "        return [tagged_entity for tagged_entity in new_ents.T.to_dict().values()]\n",
    "    \n",
    "    "
   ]
  },
  {
   "cell_type": "markdown",
   "metadata": {},
   "source": [
    "### 3) Synthetic Names, DNI's and CUIT's\n",
    "We're going to create a function that allows us to take a random name from a database taken from AFIP."
   ]
  },
  {
   "cell_type": "code",
   "execution_count": 2,
   "metadata": {},
   "outputs": [],
   "source": [
    "import pandas as pd\n",
    "names = pd.read_csv('../../data/estatutos/external_sources/afip_names_cuits.csv', dtype='str')"
   ]
  },
  {
   "cell_type": "code",
   "execution_count": 4,
   "metadata": {},
   "outputs": [],
   "source": [
    "import numpy as np\n",
    "names['name'] = names.concatenado.apply(lambda x: x[:30] if isinstance(x, str) else np.nan)"
   ]
  },
  {
   "cell_type": "code",
   "execution_count": 5,
   "metadata": {},
   "outputs": [],
   "source": [
    "names['name'] = names['name'].str.replace('\\s{2,}', '', regex=True)"
   ]
  },
  {
   "cell_type": "code",
   "execution_count": 6,
   "metadata": {},
   "outputs": [],
   "source": [
    "names = names.dropna()"
   ]
  },
  {
   "cell_type": "markdown",
   "metadata": {},
   "source": [
    "#### Companies and people\n",
    "Since we have companies in the list, we can take them to create synthetic \"Razon Social\". Keep in mind that we'll include them as people's name since they can be founders of a new company as any regular person can. And we're also going to throw away goverments, municipalities, companies in formation and those who filed bankrupcy."
   ]
  },
  {
   "cell_type": "markdown",
   "metadata": {},
   "source": [
    "As we can see, there are 68352 different companies. We'll use that as a mask to create a new dataframe"
   ]
  },
  {
   "cell_type": "code",
   "execution_count": 7,
   "metadata": {},
   "outputs": [],
   "source": [
    "company_mask = names['name'].str.contains(r'\\bSA$|\\bSRL$|\\bSAS$|\\bSAU$|\\bSASU$|\\bSAIC$|\\bSACIF$')"
   ]
  },
  {
   "cell_type": "code",
   "execution_count": 8,
   "metadata": {},
   "outputs": [
    {
     "data": {
      "text/html": [
       "<div>\n",
       "<style scoped>\n",
       "    .dataframe tbody tr th:only-of-type {\n",
       "        vertical-align: middle;\n",
       "    }\n",
       "\n",
       "    .dataframe tbody tr th {\n",
       "        vertical-align: top;\n",
       "    }\n",
       "\n",
       "    .dataframe thead th {\n",
       "        text-align: right;\n",
       "    }\n",
       "</style>\n",
       "<table border=\"1\" class=\"dataframe\">\n",
       "  <thead>\n",
       "    <tr style=\"text-align: right;\">\n",
       "      <th></th>\n",
       "      <th>concatenado</th>\n",
       "      <th>cuit</th>\n",
       "      <th>dni</th>\n",
       "      <th>name</th>\n",
       "    </tr>\n",
       "  </thead>\n",
       "  <tbody>\n",
       "    <tr>\n",
       "      <th>68968</th>\n",
       "      <td>DE MIRANDA EURICO SA</td>\n",
       "      <td>20056190415</td>\n",
       "      <td>05619041</td>\n",
       "      <td>DE MIRANDA EURICO SA</td>\n",
       "    </tr>\n",
       "    <tr>\n",
       "      <th>138919</th>\n",
       "      <td>DE LAVALLAZ ALBERTO ANTONIO SAACEXA</td>\n",
       "      <td>20078365863</td>\n",
       "      <td>07836586</td>\n",
       "      <td>DE LAVALLAZ ALBERTO ANTONIO SA</td>\n",
       "    </tr>\n",
       "    <tr>\n",
       "      <th>269324</th>\n",
       "      <td>GARCIA CASTELLANOS FERNANDO SANINIF</td>\n",
       "      <td>20111927082</td>\n",
       "      <td>11192708</td>\n",
       "      <td>GARCIA CASTELLANOS FERNANDO SA</td>\n",
       "    </tr>\n",
       "    <tr>\n",
       "      <th>334800</th>\n",
       "      <td>GRECO FRANCISCO ANTONIO SA    NINIA</td>\n",
       "      <td>20120626575</td>\n",
       "      <td>12062657</td>\n",
       "      <td>GRECO FRANCISCO ANTONIO SA</td>\n",
       "    </tr>\n",
       "    <tr>\n",
       "      <th>402647</th>\n",
       "      <td>SOLDANO ALVARO GERMAN DEL SA  NINIA</td>\n",
       "      <td>20128898558</td>\n",
       "      <td>12889855</td>\n",
       "      <td>SOLDANO ALVARO GERMAN DEL SA</td>\n",
       "    </tr>\n",
       "    <tr>\n",
       "      <th>...</th>\n",
       "      <td>...</td>\n",
       "      <td>...</td>\n",
       "      <td>...</td>\n",
       "      <td>...</td>\n",
       "    </tr>\n",
       "    <tr>\n",
       "      <th>4955893</th>\n",
       "      <td>BE3 SRL</td>\n",
       "      <td>34686133305</td>\n",
       "      <td>68613330</td>\n",
       "      <td>BE3 SRL</td>\n",
       "    </tr>\n",
       "    <tr>\n",
       "      <th>4955894</th>\n",
       "      <td>DIFEMA SRL</td>\n",
       "      <td>34686233318</td>\n",
       "      <td>68623331</td>\n",
       "      <td>DIFEMA SRL</td>\n",
       "    </tr>\n",
       "    <tr>\n",
       "      <th>4955895</th>\n",
       "      <td>RUBRO PUBLICIDAD SA</td>\n",
       "      <td>34686233482</td>\n",
       "      <td>68623348</td>\n",
       "      <td>RUBRO PUBLICIDAD SA</td>\n",
       "    </tr>\n",
       "    <tr>\n",
       "      <th>4955896</th>\n",
       "      <td>EAGLEMP TURISMO SRL</td>\n",
       "      <td>34686333320</td>\n",
       "      <td>68633332</td>\n",
       "      <td>EAGLEMP TURISMO SRL</td>\n",
       "    </tr>\n",
       "    <tr>\n",
       "      <th>4955898</th>\n",
       "      <td>FANCON SA</td>\n",
       "      <td>34688233358</td>\n",
       "      <td>68823335</td>\n",
       "      <td>FANCON SA</td>\n",
       "    </tr>\n",
       "  </tbody>\n",
       "</table>\n",
       "<p>68352 rows × 4 columns</p>\n",
       "</div>"
      ],
      "text/plain": [
       "                                  concatenado         cuit       dni  \\\n",
       "68968          DE MIRANDA EURICO SA            20056190415  05619041   \n",
       "138919   DE LAVALLAZ ALBERTO ANTONIO SAACEXA   20078365863  07836586   \n",
       "269324   GARCIA CASTELLANOS FERNANDO SANINIF   20111927082  11192708   \n",
       "334800   GRECO FRANCISCO ANTONIO SA    NINIA   20120626575  12062657   \n",
       "402647   SOLDANO ALVARO GERMAN DEL SA  NINIA   20128898558  12889855   \n",
       "...                                       ...          ...       ...   \n",
       "4955893        BE3 SRL                         34686133305  68613330   \n",
       "4955894        DIFEMA SRL                      34686233318  68623331   \n",
       "4955895        RUBRO PUBLICIDAD SA             34686233482  68623348   \n",
       "4955896        EAGLEMP TURISMO SRL             34686333320  68633332   \n",
       "4955898        FANCON SA                       34688233358  68823335   \n",
       "\n",
       "                                   name  \n",
       "68968              DE MIRANDA EURICO SA  \n",
       "138919   DE LAVALLAZ ALBERTO ANTONIO SA  \n",
       "269324   GARCIA CASTELLANOS FERNANDO SA  \n",
       "334800       GRECO FRANCISCO ANTONIO SA  \n",
       "402647     SOLDANO ALVARO GERMAN DEL SA  \n",
       "...                                 ...  \n",
       "4955893                         BE3 SRL  \n",
       "4955894                      DIFEMA SRL  \n",
       "4955895             RUBRO PUBLICIDAD SA  \n",
       "4955896             EAGLEMP TURISMO SRL  \n",
       "4955898                       FANCON SA  \n",
       "\n",
       "[68352 rows x 4 columns]"
      ]
     },
     "execution_count": 8,
     "metadata": {},
     "output_type": "execute_result"
    }
   ],
   "source": [
    "names.loc[company_mask]"
   ]
  },
  {
   "cell_type": "markdown",
   "metadata": {},
   "source": [
    "We found a problem. The dataset wasn't properly cleaned. As we can see, some people ho have \"SA\" at the end, might have been part of their names. The good part is that it seems that the data frame is sorted. First people, then companies, then goverment bodies. Let's begin with goverment offices, since we really don't need them."
   ]
  },
  {
   "cell_type": "code",
   "execution_count": 9,
   "metadata": {},
   "outputs": [],
   "source": [
    "guv_name = names['concatenado'].str.contains('GOBIER|MUNICIP|UNIVERSIDA|BIBLIO|ASOCIAC|ESCUELA|COLEGIO|HOSPITAL|SANATORIO|CLINICA|INSTITUT|SECRETA|MINISTER|OFICINA')\n",
    "guv_cuit = names.cuit.str.contains(r'^30|^33|^34')"
   ]
  },
  {
   "cell_type": "code",
   "execution_count": 10,
   "metadata": {},
   "outputs": [
    {
     "data": {
      "text/html": [
       "<div>\n",
       "<style scoped>\n",
       "    .dataframe tbody tr th:only-of-type {\n",
       "        vertical-align: middle;\n",
       "    }\n",
       "\n",
       "    .dataframe tbody tr th {\n",
       "        vertical-align: top;\n",
       "    }\n",
       "\n",
       "    .dataframe thead th {\n",
       "        text-align: right;\n",
       "    }\n",
       "</style>\n",
       "<table border=\"1\" class=\"dataframe\">\n",
       "  <thead>\n",
       "    <tr style=\"text-align: right;\">\n",
       "      <th></th>\n",
       "      <th>concatenado</th>\n",
       "      <th>cuit</th>\n",
       "      <th>dni</th>\n",
       "      <th>name</th>\n",
       "    </tr>\n",
       "  </thead>\n",
       "  <tbody>\n",
       "    <tr>\n",
       "      <th>4482664</th>\n",
       "      <td>ASOCIACION MUTUAL DAN</td>\n",
       "      <td>30500045198</td>\n",
       "      <td>50004519</td>\n",
       "      <td>ASOCIACION MUTUAL DAN</td>\n",
       "    </tr>\n",
       "    <tr>\n",
       "      <th>4482667</th>\n",
       "      <td>ASOCIACION ARGENTINA DE COMPA#</td>\n",
       "      <td>30500048782</td>\n",
       "      <td>50004878</td>\n",
       "      <td>ASOCIACION ARGENTINA DE COMPA#</td>\n",
       "    </tr>\n",
       "    <tr>\n",
       "      <th>4482685</th>\n",
       "      <td>INSTITUTO AUTARQUICO</td>\n",
       "      <td>30500055509</td>\n",
       "      <td>50005550</td>\n",
       "      <td>INSTITUTO AUTARQUICO</td>\n",
       "    </tr>\n",
       "    <tr>\n",
       "      <th>4482696</th>\n",
       "      <td>INSTITUTO COOPERATIVO</td>\n",
       "      <td>30500060588</td>\n",
       "      <td>50006058</td>\n",
       "      <td>INSTITUTO COOPERATIVO</td>\n",
       "    </tr>\n",
       "    <tr>\n",
       "      <th>4482700</th>\n",
       "      <td>INSTITUTO ASEGURADOR</td>\n",
       "      <td>30500063242</td>\n",
       "      <td>50006324</td>\n",
       "      <td>INSTITUTO ASEGURADOR</td>\n",
       "    </tr>\n",
       "    <tr>\n",
       "      <th>...</th>\n",
       "      <td>...</td>\n",
       "      <td>...</td>\n",
       "      <td>...</td>\n",
       "      <td>...</td>\n",
       "    </tr>\n",
       "    <tr>\n",
       "      <th>4955887</th>\n",
       "      <td>BIBLIOTECA POPULAR DE LOS</td>\n",
       "      <td>34684033427</td>\n",
       "      <td>68403342</td>\n",
       "      <td>BIBLIOTECA POPULAR DE LOS</td>\n",
       "    </tr>\n",
       "    <tr>\n",
       "      <th>4955891</th>\n",
       "      <td>ASOCIACION CIVIL COMITE DE</td>\n",
       "      <td>34685233411</td>\n",
       "      <td>68523341</td>\n",
       "      <td>ASOCIACION CIVIL COMITE DE</td>\n",
       "    </tr>\n",
       "    <tr>\n",
       "      <th>4955899</th>\n",
       "      <td>GOBIERNO DE LA CIUDAD DE</td>\n",
       "      <td>34999032089</td>\n",
       "      <td>99903208</td>\n",
       "      <td>GOBIERNO DE LA CIUDAD DE</td>\n",
       "    </tr>\n",
       "    <tr>\n",
       "      <th>4955901</th>\n",
       "      <td>MUNICIPALIDAD DE LA MATANZA</td>\n",
       "      <td>34999257560</td>\n",
       "      <td>99925756</td>\n",
       "      <td>MUNICIPALIDAD DE LA MATANZA</td>\n",
       "    </tr>\n",
       "    <tr>\n",
       "      <th>4955902</th>\n",
       "      <td>MUNICIPIO DE ORO VERDE</td>\n",
       "      <td>34999257706</td>\n",
       "      <td>99925770</td>\n",
       "      <td>MUNICIPIO DE ORO VERDE</td>\n",
       "    </tr>\n",
       "  </tbody>\n",
       "</table>\n",
       "<p>30653 rows × 4 columns</p>\n",
       "</div>"
      ],
      "text/plain": [
       "                            concatenado         cuit       dni  \\\n",
       "4482664  ASOCIACION MUTUAL DAN           30500045198  50004519   \n",
       "4482667  ASOCIACION ARGENTINA DE COMPA#  30500048782  50004878   \n",
       "4482685           INSTITUTO AUTARQUICO   30500055509  50005550   \n",
       "4482696          INSTITUTO COOPERATIVO   30500060588  50006058   \n",
       "4482700           INSTITUTO ASEGURADOR   30500063242  50006324   \n",
       "...                                 ...          ...       ...   \n",
       "4955887      BIBLIOTECA POPULAR DE LOS   34684033427  68403342   \n",
       "4955891     ASOCIACION CIVIL COMITE DE   34685233411  68523341   \n",
       "4955899       GOBIERNO DE LA CIUDAD DE   34999032089  99903208   \n",
       "4955901  MUNICIPALIDAD DE LA MATANZA     34999257560  99925756   \n",
       "4955902  MUNICIPIO DE ORO VERDE          34999257706  99925770   \n",
       "\n",
       "                                   name  \n",
       "4482664           ASOCIACION MUTUAL DAN  \n",
       "4482667  ASOCIACION ARGENTINA DE COMPA#  \n",
       "4482685           INSTITUTO AUTARQUICO   \n",
       "4482696          INSTITUTO COOPERATIVO   \n",
       "4482700           INSTITUTO ASEGURADOR   \n",
       "...                                 ...  \n",
       "4955887      BIBLIOTECA POPULAR DE LOS   \n",
       "4955891     ASOCIACION CIVIL COMITE DE   \n",
       "4955899       GOBIERNO DE LA CIUDAD DE   \n",
       "4955901     MUNICIPALIDAD DE LA MATANZA  \n",
       "4955902          MUNICIPIO DE ORO VERDE  \n",
       "\n",
       "[30653 rows x 4 columns]"
      ]
     },
     "execution_count": 10,
     "metadata": {},
     "output_type": "execute_result"
    }
   ],
   "source": [
    "names.loc[guv_name & guv_cuit]"
   ]
  },
  {
   "cell_type": "markdown",
   "metadata": {},
   "source": [
    "So, those 30653 entities go."
   ]
  },
  {
   "cell_type": "code",
   "execution_count": 11,
   "metadata": {},
   "outputs": [],
   "source": [
    "names = names.loc[~(guv_name & guv_cuit)]"
   ]
  },
  {
   "cell_type": "markdown",
   "metadata": {},
   "source": [
    "We go back to extract **Companies** with our acquired knowledge. Plus, we found that some companies have SAS and others S.A.S., so we'll include those as well"
   ]
  },
  {
   "cell_type": "code",
   "execution_count": 12,
   "metadata": {},
   "outputs": [],
   "source": [
    "company_mask = names['name'].str.contains(r'\\bSA$|\\bSRL$|\\bSAS$|\\bSAU$|\\bSASU$|\\bSAIC$|\\bSACIF$')\n",
    "company_dots = names['name'].str.contains(r'\\bS\\.A\\.$|\\bS\\.R\\.L\\.$|\\bS\\.A\\.S\\.$|\\bS\\.A\\.U\\.$|\\bS\\.A\\.S\\.U\\.$|\\bS\\.A\\.I\\.C\\.$|\\bS\\.A\\.C\\.I\\.F\\.$')\n",
    "company_spaces = names['name'].str.contains(r'\\bS\\sA$|\\bS\\sR\\sL$|\\bS\\sA\\sS$|\\bS\\sA\\sU$|\\bS\\sA\\sS\\sU$|\\bS\\sA\\sI\\sC$|\\bS\\sA\\sC\\sI\\sF$')\n",
    "company_cuit = names.cuit.str.contains(r'^30|^33|^34')"
   ]
  },
  {
   "cell_type": "code",
   "execution_count": 13,
   "metadata": {},
   "outputs": [],
   "source": [
    "companies = names.loc[(company_mask | company_dots | company_spaces) & (company_cuit)]"
   ]
  },
  {
   "cell_type": "code",
   "execution_count": 14,
   "metadata": {},
   "outputs": [
    {
     "data": {
      "text/html": [
       "<div>\n",
       "<style scoped>\n",
       "    .dataframe tbody tr th:only-of-type {\n",
       "        vertical-align: middle;\n",
       "    }\n",
       "\n",
       "    .dataframe tbody tr th {\n",
       "        vertical-align: top;\n",
       "    }\n",
       "\n",
       "    .dataframe thead th {\n",
       "        text-align: right;\n",
       "    }\n",
       "</style>\n",
       "<table border=\"1\" class=\"dataframe\">\n",
       "  <thead>\n",
       "    <tr style=\"text-align: right;\">\n",
       "      <th></th>\n",
       "      <th>concatenado</th>\n",
       "      <th>cuit</th>\n",
       "      <th>dni</th>\n",
       "      <th>name</th>\n",
       "    </tr>\n",
       "  </thead>\n",
       "  <tbody>\n",
       "    <tr>\n",
       "      <th>4482617</th>\n",
       "      <td>BANCO BBVA ARGENTINA S.A.</td>\n",
       "      <td>30500003193</td>\n",
       "      <td>50000319</td>\n",
       "      <td>BANCO BBVA ARGENTINA S.A.</td>\n",
       "    </tr>\n",
       "    <tr>\n",
       "      <th>4482625</th>\n",
       "      <td>BANCO DE SAN JUAN S A</td>\n",
       "      <td>30500009442</td>\n",
       "      <td>50000944</td>\n",
       "      <td>BANCO DE SAN JUAN S A</td>\n",
       "    </tr>\n",
       "    <tr>\n",
       "      <th>4482627</th>\n",
       "      <td>BANCO DE CORRIENTES SA</td>\n",
       "      <td>30500010602</td>\n",
       "      <td>50001060</td>\n",
       "      <td>BANCO DE CORRIENTES SA</td>\n",
       "    </tr>\n",
       "    <tr>\n",
       "      <th>4482634</th>\n",
       "      <td>BANCO DEL CHUBUT S.A.</td>\n",
       "      <td>30500012990</td>\n",
       "      <td>50001299</td>\n",
       "      <td>BANCO DEL CHUBUT S.A.</td>\n",
       "    </tr>\n",
       "    <tr>\n",
       "      <th>4482636</th>\n",
       "      <td>CHUBB SEGUROS ARGENTINA S A</td>\n",
       "      <td>30500016260</td>\n",
       "      <td>50001626</td>\n",
       "      <td>CHUBB SEGUROS ARGENTINA S A</td>\n",
       "    </tr>\n",
       "    <tr>\n",
       "      <th>...</th>\n",
       "      <td>...</td>\n",
       "      <td>...</td>\n",
       "      <td>...</td>\n",
       "      <td>...</td>\n",
       "    </tr>\n",
       "    <tr>\n",
       "      <th>4955893</th>\n",
       "      <td>BE3 SRL</td>\n",
       "      <td>34686133305</td>\n",
       "      <td>68613330</td>\n",
       "      <td>BE3 SRL</td>\n",
       "    </tr>\n",
       "    <tr>\n",
       "      <th>4955894</th>\n",
       "      <td>DIFEMA SRL</td>\n",
       "      <td>34686233318</td>\n",
       "      <td>68623331</td>\n",
       "      <td>DIFEMA SRL</td>\n",
       "    </tr>\n",
       "    <tr>\n",
       "      <th>4955895</th>\n",
       "      <td>RUBRO PUBLICIDAD SA</td>\n",
       "      <td>34686233482</td>\n",
       "      <td>68623348</td>\n",
       "      <td>RUBRO PUBLICIDAD SA</td>\n",
       "    </tr>\n",
       "    <tr>\n",
       "      <th>4955896</th>\n",
       "      <td>EAGLEMP TURISMO SRL</td>\n",
       "      <td>34686333320</td>\n",
       "      <td>68633332</td>\n",
       "      <td>EAGLEMP TURISMO SRL</td>\n",
       "    </tr>\n",
       "    <tr>\n",
       "      <th>4955898</th>\n",
       "      <td>FANCON SA</td>\n",
       "      <td>34688233358</td>\n",
       "      <td>68823335</td>\n",
       "      <td>FANCON SA</td>\n",
       "    </tr>\n",
       "  </tbody>\n",
       "</table>\n",
       "<p>205501 rows × 4 columns</p>\n",
       "</div>"
      ],
      "text/plain": [
       "                            concatenado         cuit       dni  \\\n",
       "4482617  BANCO BBVA ARGENTINA S.A.       30500003193  50000319   \n",
       "4482625  BANCO DE SAN JUAN S A           30500009442  50000944   \n",
       "4482627  BANCO DE CORRIENTES SA          30500010602  50001060   \n",
       "4482634  BANCO DEL CHUBUT S.A.           30500012990  50001299   \n",
       "4482636  CHUBB SEGUROS ARGENTINA S A     30500016260  50001626   \n",
       "...                                 ...          ...       ...   \n",
       "4955893  BE3 SRL                         34686133305  68613330   \n",
       "4955894  DIFEMA SRL                      34686233318  68623331   \n",
       "4955895  RUBRO PUBLICIDAD SA             34686233482  68623348   \n",
       "4955896  EAGLEMP TURISMO SRL             34686333320  68633332   \n",
       "4955898  FANCON SA                       34688233358  68823335   \n",
       "\n",
       "                                name  \n",
       "4482617    BANCO BBVA ARGENTINA S.A.  \n",
       "4482625        BANCO DE SAN JUAN S A  \n",
       "4482627       BANCO DE CORRIENTES SA  \n",
       "4482634        BANCO DEL CHUBUT S.A.  \n",
       "4482636  CHUBB SEGUROS ARGENTINA S A  \n",
       "...                              ...  \n",
       "4955893                      BE3 SRL  \n",
       "4955894                   DIFEMA SRL  \n",
       "4955895          RUBRO PUBLICIDAD SA  \n",
       "4955896          EAGLEMP TURISMO SRL  \n",
       "4955898                    FANCON SA  \n",
       "\n",
       "[205501 rows x 4 columns]"
      ]
     },
     "execution_count": 14,
     "metadata": {},
     "output_type": "execute_result"
    }
   ],
   "source": [
    "companies"
   ]
  },
  {
   "cell_type": "markdown",
   "metadata": {},
   "source": [
    "Now LOOK AT THAT.. We went from 68000 to 205500 companies!"
   ]
  },
  {
   "cell_type": "code",
   "execution_count": 15,
   "metadata": {},
   "outputs": [],
   "source": [
    "companies = companies.drop('concatenado', axis=1)"
   ]
  },
  {
   "cell_type": "code",
   "execution_count": 553,
   "metadata": {},
   "outputs": [],
   "source": [
    "companies.to_csv('../../data/estatutos/external_sources/companies.csv', index=False)"
   ]
  },
  {
   "cell_type": "code",
   "execution_count": 16,
   "metadata": {},
   "outputs": [],
   "source": [
    "persons = names.loc[~((company_mask | company_dots | company_spaces) & (company_cuit)), ['cuit', 'dni', 'name']]"
   ]
  },
  {
   "cell_type": "code",
   "execution_count": 23,
   "metadata": {},
   "outputs": [],
   "source": [
    "persons = persons.loc[~(persons.name=='') | (persons.name=='  ') | (persons.name=='   ')]"
   ]
  },
  {
   "cell_type": "code",
   "execution_count": 25,
   "metadata": {},
   "outputs": [],
   "source": [
    "persons.to_csv('../../data/estatutos/external_sources/persons.csv', index=False)"
   ]
  },
  {
   "cell_type": "code",
   "execution_count": 29,
   "metadata": {},
   "outputs": [],
   "source": [
    "def random_name_generator(name_type:str, include_id=True):\n",
    "    possible_types = ['company', 'person', 'any']\n",
    "    if not name_type in possible_types:\n",
    "        raise KeyError(f'{name_type} is not a valid option. Please choose one of the following {possible_types}')\n",
    "    \n",
    "    if name_type == 'company':\n",
    "        names = pd.read_csv('../../data/estatutos/external_sources/companies.csv', dtype=str).sample(10000)\n",
    "    elif name_type == 'person':\n",
    "        names = pd.read_csv('../../data/estatutos/external_sources/persons.csv', dtype=str).sample(10000)\n",
    "    elif name_type == 'any':\n",
    "        persons = pd.read_csv('../../data/estatutos/external_sources/persons.csv', dtype=str).sample(10000)\n",
    "        companies = pd.read_csv('../../data/estatutos/external_sources/companies.csv', dtype=str).sample(10000)\n",
    "        names = pd.concat([persons, companies])\n",
    "        del persons, companies\n",
    "    \n",
    "    result = names.sample(1).iloc[0]\n",
    "    if not include_id:\n",
    "        result = result['name']\n",
    "    return result"
   ]
  },
  {
   "cell_type": "code",
   "execution_count": 34,
   "metadata": {},
   "outputs": [
    {
     "name": "stdout",
     "output_type": "stream",
     "text": [
      "4.22 s ± 71.2 ms per loop (mean ± std. dev. of 7 runs, 1 loop each)\n"
     ]
    }
   ],
   "source": [
    "%%timeit\n",
    "random_name_generator('any')"
   ]
  },
  {
   "cell_type": "markdown",
   "metadata": {},
   "source": [
    "As we can see, it takes too long to take one single name. We'll come back to this function once we create the dataset.\n",
    "\n",
    "### 4) Random Mandato\n",
    "We created a function that returns all the values expected for mandato.\n",
    "We use `np.random.randint(0,3)` at the begining in order to give 2/3 chances of returning a finite number, and 1/3 chances of returning a permanent goverment of the company."
   ]
  },
  {
   "cell_type": "code",
   "execution_count": 559,
   "metadata": {},
   "outputs": [],
   "source": [
    "def mandato_generator():\n",
    "    if np.random.randint(0,3):\n",
    "        years = np.random.randint(1,11)\n",
    "        keywords = ['años', 'ejercicios'][np.random.randint(0,2)]\n",
    "        years_words = num2words(years, lang='es')\n",
    "        random_year = [years, years_words, f'{years_words} ({years})', f'{years} ({years_words})'][np.random.randint(0,4)]\n",
    "        result = f'{random_year} {keywords}'\n",
    "    else:\n",
    "        result = ['término de duración de la sociedad', 'plazo de duración de la sociedad', 'vencimiento de la sociedad'][np.random.randint(0,3)]\n",
    "    \n",
    "    return result"
   ]
  },
  {
   "cell_type": "markdown",
   "metadata": {},
   "source": [
    "### 5) Random Vigencia"
   ]
  },
  {
   "cell_type": "code",
   "execution_count": 560,
   "metadata": {},
   "outputs": [],
   "source": [
    "def vigencia_generator():\n",
    "    years = np.random.randint(1,101)\n",
    "    years_words = num2words(years, lang='es')\n",
    "    salad = [years, years_words, f'{years_words} ({years})', f'{years} ({years_words})'][np.random.randint(0,4)]\n",
    "    \n",
    "    return salad"
   ]
  },
  {
   "cell_type": "code",
   "execution_count": 365,
   "metadata": {},
   "outputs": [
    {
     "data": {
      "text/plain": [
       "'cuarenta y ocho'"
      ]
     },
     "execution_count": 365,
     "metadata": {},
     "output_type": "execute_result"
    }
   ],
   "source": [
    "random_vigencia()"
   ]
  },
  {
   "cell_type": "markdown",
   "metadata": {},
   "source": [
    "### 6) Random tipicidad"
   ]
  },
  {
   "cell_type": "code",
   "execution_count": 561,
   "metadata": {},
   "outputs": [],
   "source": [
    "def tipicidad_generator():\n",
    "    company_type = ['sociedad de responsabilidad limitada', \n",
    "                    'sociedad anónima',\n",
    "                    'sociedad por acciones simplificada',\n",
    "                    'sociedad anónima unipersonal',\n",
    "                    'sociedad por acciones simplificada unipersonal'][np.random.randint(0, 5)]\n",
    "    style = ['lower', 'upper', 'title'][np.random.randint(0,3)]\n",
    "    \n",
    "    if style == 'lower':\n",
    "        result = company_type\n",
    "    elif style == 'upper':\n",
    "        result = company_type.upper()\n",
    "    elif style == 'title':\n",
    "        result = company_type.title()\n",
    "    \n",
    "    return result"
   ]
  },
  {
   "cell_type": "code",
   "execution_count": 431,
   "metadata": {},
   "outputs": [
    {
     "data": {
      "text/plain": [
       "'SOCIEDAD ANÓNIMA'"
      ]
     },
     "execution_count": 431,
     "metadata": {},
     "output_type": "execute_result"
    }
   ],
   "source": [
    "random_tipicidad()"
   ]
  },
  {
   "cell_type": "markdown",
   "metadata": {},
   "source": [
    "### 7) Random DNI and Random CUIT"
   ]
  },
  {
   "cell_type": "code",
   "execution_count": 564,
   "metadata": {},
   "outputs": [],
   "source": [
    "def id_generator(cuit=False):\n",
    "    millions = np.random.randint(0,100)\n",
    "    thousands = np.random.randint(0,1000)\n",
    "    hundreds = np.random.randint(0,1000)\n",
    "    \n",
    "    \n",
    "    if thousands < 10:\n",
    "        thousands = f'00{thousands}'\n",
    "    elif thousands < 100:\n",
    "        thousands = f'0{thousands}'\n",
    "    else: \n",
    "        thousands = f'{thousands}'\n",
    "\n",
    "    if hundreds < 10:\n",
    "        hundreds = f'00{hundreds}'\n",
    "    elif hundreds < 100:\n",
    "        hundreds = f'0{hundreds}'\n",
    "    else: \n",
    "        hundreds = f'{hundreds}'\n",
    "        \n",
    "    result = f'{millions}.{thousands}.{hundreds}'\n",
    "\n",
    "    if cuit:\n",
    "        millions = f'0{millions}' if millions < 10 else f'{millions}'\n",
    "        beginning = np.random.randint(20,36)\n",
    "        end = np.random.randint(1,10)\n",
    "        result = f'{beginning}-{millions}{thousands}{hundreds}-{end}'\n",
    "    \n",
    "    return result"
   ]
  },
  {
   "cell_type": "markdown",
   "metadata": {},
   "source": [
    "### 8) Random Capital"
   ]
  }
 ],
 "metadata": {
  "kernelspec": {
   "display_name": "Python 3",
   "language": "python",
   "name": "python3"
  },
  "language_info": {
   "codemirror_mode": {
    "name": "ipython",
    "version": 3
   },
   "file_extension": ".py",
   "mimetype": "text/x-python",
   "name": "python",
   "nbconvert_exporter": "python",
   "pygments_lexer": "ipython3",
   "version": "3.7.5"
  }
 },
 "nbformat": 4,
 "nbformat_minor": 4
}
