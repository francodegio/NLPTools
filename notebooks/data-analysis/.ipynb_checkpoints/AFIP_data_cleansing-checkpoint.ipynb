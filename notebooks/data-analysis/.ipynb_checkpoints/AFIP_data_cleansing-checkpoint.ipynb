{
 "cells": [
  {
   "cell_type": "markdown",
   "metadata": {},
   "source": [
    "# AFIP Data Cleansing "
   ]
  },
  {
   "cell_type": "code",
   "execution_count": 1,
   "metadata": {},
   "outputs": [],
   "source": [
    "import re\n",
    "import cchardet as chardet\n",
    "import pandas as pd\n",
    "import dask.dataframe as dd"
   ]
  },
  {
   "cell_type": "code",
   "execution_count": 2,
   "metadata": {},
   "outputs": [],
   "source": [
    "def get_encoding_type(file_path):\n",
    "    rawdata = open(file_path, 'rb').read()\n",
    "    result = chardet.detect(rawdata)\n",
    "    return result.get('encoding')"
   ]
  },
  {
   "cell_type": "code",
   "execution_count": 3,
   "metadata": {},
   "outputs": [
    {
     "data": {
      "text/plain": [
       "'ISO-8859-4'"
      ]
     },
     "execution_count": 3,
     "metadata": {},
     "output_type": "execute_result"
    }
   ],
   "source": [
    "file_dir = '../../data/estatutos/external_sources/SELE-SAL-CONSTA.p20out1.20200509.tmp'\n",
    "get_encoding_type(file_dir)"
   ]
  },
  {
   "cell_type": "code",
   "execution_count": 4,
   "metadata": {},
   "outputs": [],
   "source": [
    "ddf = dd.read_csv(file_dir, encoding='ISO-8859-4', blocksize=6400, dtype=str)"
   ]
  },
  {
   "cell_type": "code",
   "execution_count": 5,
   "metadata": {},
   "outputs": [],
   "source": [
    "df = ddf.partitions[-1].compute()"
   ]
  },
  {
   "cell_type": "code",
   "execution_count": 6,
   "metadata": {},
   "outputs": [],
   "source": [
    "cuit = re.compile(r'(\\d{2}(\\d{8})\\d)')\n",
    "basura = re.compile(r'[A-Z]+\\d+$')"
   ]
  },
  {
   "cell_type": "code",
   "execution_count": 7,
   "metadata": {},
   "outputs": [],
   "source": [
    "df.columns = ['concatenado']"
   ]
  },
  {
   "cell_type": "code",
   "execution_count": 8,
   "metadata": {},
   "outputs": [],
   "source": [
    "cuits = df.concatenado.str.extract(cuit)"
   ]
  },
  {
   "cell_type": "code",
   "execution_count": 9,
   "metadata": {},
   "outputs": [],
   "source": [
    "cuits.columns = ['cuit', 'dni']"
   ]
  },
  {
   "cell_type": "code",
   "execution_count": 10,
   "metadata": {},
   "outputs": [
    {
     "data": {
      "text/html": [
       "<div>\n",
       "<style scoped>\n",
       "    .dataframe tbody tr th:only-of-type {\n",
       "        vertical-align: middle;\n",
       "    }\n",
       "\n",
       "    .dataframe tbody tr th {\n",
       "        vertical-align: top;\n",
       "    }\n",
       "\n",
       "    .dataframe thead th {\n",
       "        text-align: right;\n",
       "    }\n",
       "</style>\n",
       "<table border=\"1\" class=\"dataframe\">\n",
       "  <thead>\n",
       "    <tr style=\"text-align: right;\">\n",
       "      <th></th>\n",
       "      <th>cuit</th>\n",
       "      <th>dni</th>\n",
       "    </tr>\n",
       "  </thead>\n",
       "  <tbody>\n",
       "    <tr>\n",
       "      <th>0</th>\n",
       "      <td>34600983158</td>\n",
       "      <td>60098315</td>\n",
       "    </tr>\n",
       "    <tr>\n",
       "      <th>1</th>\n",
       "      <td>34602466150</td>\n",
       "      <td>60246615</td>\n",
       "    </tr>\n",
       "    <tr>\n",
       "      <th>2</th>\n",
       "      <td>34603819499</td>\n",
       "      <td>60381949</td>\n",
       "    </tr>\n",
       "    <tr>\n",
       "      <th>3</th>\n",
       "      <td>34604104035</td>\n",
       "      <td>60410403</td>\n",
       "    </tr>\n",
       "    <tr>\n",
       "      <th>4</th>\n",
       "      <td>34604160741</td>\n",
       "      <td>60416074</td>\n",
       "    </tr>\n",
       "    <tr>\n",
       "      <th>...</th>\n",
       "      <td>...</td>\n",
       "      <td>...</td>\n",
       "    </tr>\n",
       "    <tr>\n",
       "      <th>82</th>\n",
       "      <td>34688233358</td>\n",
       "      <td>68823335</td>\n",
       "    </tr>\n",
       "    <tr>\n",
       "      <th>83</th>\n",
       "      <td>34999032089</td>\n",
       "      <td>99903208</td>\n",
       "    </tr>\n",
       "    <tr>\n",
       "      <th>84</th>\n",
       "      <td>34999230573</td>\n",
       "      <td>99923057</td>\n",
       "    </tr>\n",
       "    <tr>\n",
       "      <th>85</th>\n",
       "      <td>34999257560</td>\n",
       "      <td>99925756</td>\n",
       "    </tr>\n",
       "    <tr>\n",
       "      <th>86</th>\n",
       "      <td>34999257706</td>\n",
       "      <td>99925770</td>\n",
       "    </tr>\n",
       "  </tbody>\n",
       "</table>\n",
       "<p>87 rows × 2 columns</p>\n",
       "</div>"
      ],
      "text/plain": [
       "           cuit       dni\n",
       "0   34600983158  60098315\n",
       "1   34602466150  60246615\n",
       "2   34603819499  60381949\n",
       "3   34604104035  60410403\n",
       "4   34604160741  60416074\n",
       "..          ...       ...\n",
       "82  34688233358  68823335\n",
       "83  34999032089  99903208\n",
       "84  34999230573  99923057\n",
       "85  34999257560  99925756\n",
       "86  34999257706  99925770\n",
       "\n",
       "[87 rows x 2 columns]"
      ]
     },
     "execution_count": 10,
     "metadata": {},
     "output_type": "execute_result"
    }
   ],
   "source": [
    "cuits"
   ]
  },
  {
   "cell_type": "code",
   "execution_count": 11,
   "metadata": {},
   "outputs": [
    {
     "data": {
      "text/html": [
       "<div>\n",
       "<style scoped>\n",
       "    .dataframe tbody tr th:only-of-type {\n",
       "        vertical-align: middle;\n",
       "    }\n",
       "\n",
       "    .dataframe tbody tr th {\n",
       "        vertical-align: top;\n",
       "    }\n",
       "\n",
       "    .dataframe thead th {\n",
       "        text-align: right;\n",
       "    }\n",
       "</style>\n",
       "<table border=\"1\" class=\"dataframe\">\n",
       "  <thead>\n",
       "    <tr style=\"text-align: right;\">\n",
       "      <th></th>\n",
       "      <th>concatenado</th>\n",
       "    </tr>\n",
       "  </thead>\n",
       "  <tbody>\n",
       "    <tr>\n",
       "      <th>0</th>\n",
       "      <td>CONSORCIO DE PROPIETARIOS</td>\n",
       "    </tr>\n",
       "    <tr>\n",
       "      <th>1</th>\n",
       "      <td>FIORDANI DOUGLAS Y FIORDANI</td>\n",
       "    </tr>\n",
       "    <tr>\n",
       "      <th>2</th>\n",
       "      <td>CONSORCIO DE PROPIETARIOS AV</td>\n",
       "    </tr>\n",
       "    <tr>\n",
       "      <th>3</th>\n",
       "      <td>CONSORCIO DE PROPIETARIOSAVDA</td>\n",
       "    </tr>\n",
       "    <tr>\n",
       "      <th>4</th>\n",
       "      <td>JUNCALITO SOCIEDAD COLECTIVA</td>\n",
       "    </tr>\n",
       "    <tr>\n",
       "      <th>...</th>\n",
       "      <td>...</td>\n",
       "    </tr>\n",
       "    <tr>\n",
       "      <th>82</th>\n",
       "      <td>FANCON SA</td>\n",
       "    </tr>\n",
       "    <tr>\n",
       "      <th>83</th>\n",
       "      <td>GOBIERNO DE LA CIUDAD DE</td>\n",
       "    </tr>\n",
       "    <tr>\n",
       "      <th>84</th>\n",
       "      <td>DIRECCION GENERAL DE</td>\n",
       "    </tr>\n",
       "    <tr>\n",
       "      <th>85</th>\n",
       "      <td>MUNICIPALIDAD DE LA MATANZA</td>\n",
       "    </tr>\n",
       "    <tr>\n",
       "      <th>86</th>\n",
       "      <td>MUNICIPIO DE ORO VERDE</td>\n",
       "    </tr>\n",
       "  </tbody>\n",
       "</table>\n",
       "<p>87 rows × 1 columns</p>\n",
       "</div>"
      ],
      "text/plain": [
       "                       concatenado\n",
       "0       CONSORCIO DE PROPIETARIOS \n",
       "1     FIORDANI DOUGLAS Y FIORDANI \n",
       "2    CONSORCIO DE PROPIETARIOS AV \n",
       "3   CONSORCIO DE PROPIETARIOSAVDA \n",
       "4   JUNCALITO SOCIEDAD COLECTIVA  \n",
       "..                             ...\n",
       "82  FANCON SA                     \n",
       "83       GOBIERNO DE LA CIUDAD DE \n",
       "84           DIRECCION GENERAL DE \n",
       "85  MUNICIPALIDAD DE LA MATANZA   \n",
       "86  MUNICIPIO DE ORO VERDE        \n",
       "\n",
       "[87 rows x 1 columns]"
      ]
     },
     "execution_count": 11,
     "metadata": {},
     "output_type": "execute_result"
    }
   ],
   "source": [
    "df['concatenado'] = df.concatenado.str.replace(cuit, '', regex=True)\n",
    "df['concatenado'] = df.concatenado.str.replace(basura, '', regex=True)\n",
    "df"
   ]
  },
  {
   "cell_type": "code",
   "execution_count": 12,
   "metadata": {},
   "outputs": [],
   "source": [
    "df = pd.concat([df, cuits], axis=1)"
   ]
  },
  {
   "cell_type": "code",
   "execution_count": 13,
   "metadata": {},
   "outputs": [
    {
     "data": {
      "text/html": [
       "<div>\n",
       "<style scoped>\n",
       "    .dataframe tbody tr th:only-of-type {\n",
       "        vertical-align: middle;\n",
       "    }\n",
       "\n",
       "    .dataframe tbody tr th {\n",
       "        vertical-align: top;\n",
       "    }\n",
       "\n",
       "    .dataframe thead th {\n",
       "        text-align: right;\n",
       "    }\n",
       "</style>\n",
       "<table border=\"1\" class=\"dataframe\">\n",
       "  <thead>\n",
       "    <tr style=\"text-align: right;\">\n",
       "      <th></th>\n",
       "      <th>concatenado</th>\n",
       "      <th>cuit</th>\n",
       "      <th>dni</th>\n",
       "    </tr>\n",
       "  </thead>\n",
       "  <tbody>\n",
       "    <tr>\n",
       "      <th>0</th>\n",
       "      <td>CONSORCIO DE PROPIETARIOS</td>\n",
       "      <td>34600983158</td>\n",
       "      <td>60098315</td>\n",
       "    </tr>\n",
       "    <tr>\n",
       "      <th>1</th>\n",
       "      <td>FIORDANI DOUGLAS Y FIORDANI</td>\n",
       "      <td>34602466150</td>\n",
       "      <td>60246615</td>\n",
       "    </tr>\n",
       "    <tr>\n",
       "      <th>2</th>\n",
       "      <td>CONSORCIO DE PROPIETARIOS AV</td>\n",
       "      <td>34603819499</td>\n",
       "      <td>60381949</td>\n",
       "    </tr>\n",
       "    <tr>\n",
       "      <th>3</th>\n",
       "      <td>CONSORCIO DE PROPIETARIOSAVDA</td>\n",
       "      <td>34604104035</td>\n",
       "      <td>60410403</td>\n",
       "    </tr>\n",
       "    <tr>\n",
       "      <th>4</th>\n",
       "      <td>JUNCALITO SOCIEDAD COLECTIVA</td>\n",
       "      <td>34604160741</td>\n",
       "      <td>60416074</td>\n",
       "    </tr>\n",
       "    <tr>\n",
       "      <th>...</th>\n",
       "      <td>...</td>\n",
       "      <td>...</td>\n",
       "      <td>...</td>\n",
       "    </tr>\n",
       "    <tr>\n",
       "      <th>82</th>\n",
       "      <td>FANCON SA</td>\n",
       "      <td>34688233358</td>\n",
       "      <td>68823335</td>\n",
       "    </tr>\n",
       "    <tr>\n",
       "      <th>83</th>\n",
       "      <td>GOBIERNO DE LA CIUDAD DE</td>\n",
       "      <td>34999032089</td>\n",
       "      <td>99903208</td>\n",
       "    </tr>\n",
       "    <tr>\n",
       "      <th>84</th>\n",
       "      <td>DIRECCION GENERAL DE</td>\n",
       "      <td>34999230573</td>\n",
       "      <td>99923057</td>\n",
       "    </tr>\n",
       "    <tr>\n",
       "      <th>85</th>\n",
       "      <td>MUNICIPALIDAD DE LA MATANZA</td>\n",
       "      <td>34999257560</td>\n",
       "      <td>99925756</td>\n",
       "    </tr>\n",
       "    <tr>\n",
       "      <th>86</th>\n",
       "      <td>MUNICIPIO DE ORO VERDE</td>\n",
       "      <td>34999257706</td>\n",
       "      <td>99925770</td>\n",
       "    </tr>\n",
       "  </tbody>\n",
       "</table>\n",
       "<p>87 rows × 3 columns</p>\n",
       "</div>"
      ],
      "text/plain": [
       "                       concatenado         cuit       dni\n",
       "0       CONSORCIO DE PROPIETARIOS   34600983158  60098315\n",
       "1     FIORDANI DOUGLAS Y FIORDANI   34602466150  60246615\n",
       "2    CONSORCIO DE PROPIETARIOS AV   34603819499  60381949\n",
       "3   CONSORCIO DE PROPIETARIOSAVDA   34604104035  60410403\n",
       "4   JUNCALITO SOCIEDAD COLECTIVA    34604160741  60416074\n",
       "..                             ...          ...       ...\n",
       "82  FANCON SA                       34688233358  68823335\n",
       "83       GOBIERNO DE LA CIUDAD DE   34999032089  99903208\n",
       "84           DIRECCION GENERAL DE   34999230573  99923057\n",
       "85  MUNICIPALIDAD DE LA MATANZA     34999257560  99925756\n",
       "86  MUNICIPIO DE ORO VERDE          34999257706  99925770\n",
       "\n",
       "[87 rows x 3 columns]"
      ]
     },
     "execution_count": 13,
     "metadata": {},
     "output_type": "execute_result"
    }
   ],
   "source": [
    "df"
   ]
  },
  {
   "cell_type": "code",
   "execution_count": 14,
   "metadata": {},
   "outputs": [],
   "source": [
    "with open(file_dir, 'r', encoding='ISO-8859-4') as f:\n",
    "    text = f.read()"
   ]
  },
  {
   "cell_type": "code",
   "execution_count": 15,
   "metadata": {},
   "outputs": [],
   "source": [
    "entries = text.split('\\n')"
   ]
  },
  {
   "cell_type": "code",
   "execution_count": 23,
   "metadata": {},
   "outputs": [],
   "source": [
    "df = pd.DataFrame(entries, columns=['concatenado'])"
   ]
  },
  {
   "cell_type": "code",
   "execution_count": 24,
   "metadata": {},
   "outputs": [],
   "source": [
    "df = dd.from_pandas(df, chunksize=10000)"
   ]
  },
  {
   "cell_type": "code",
   "execution_count": 25,
   "metadata": {},
   "outputs": [],
   "source": [
    "cuits = df.concatenado.str.extract(cuit)\n",
    "cuits.columns = ['cuit', 'dni']\n",
    "df['concatenado'] = df.concatenado.str.replace(cuit, '', regex=True)\n",
    "df['concatenado'] = df.concatenado.str.replace(basura, '', regex=True)\n",
    "df = dd.concat([df, cuits], axis=1)"
   ]
  },
  {
   "cell_type": "code",
   "execution_count": 27,
   "metadata": {},
   "outputs": [
    {
     "name": "stdout",
     "output_type": "stream",
     "text": [
      "CPU times: user 52.1 s, sys: 1.01 s, total: 53.1 s\n",
      "Wall time: 52.5 s\n"
     ]
    },
    {
     "data": {
      "text/plain": [
       "['/home/cpega/projects/ai/jupyter-tests/NLPTools/nlptools/data/estatutos/external_sources/afip_names_cuits.csv']"
      ]
     },
     "execution_count": 27,
     "metadata": {},
     "output_type": "execute_result"
    }
   ],
   "source": [
    "%%time\n",
    "df.to_csv('../../data/estatutos/external_sources/afip_names_cuits.csv', encoding='UTF-8', single_file=True)"
   ]
  }
 ],
 "metadata": {
  "kernelspec": {
   "display_name": "Python 3",
   "language": "python",
   "name": "python3"
  },
  "language_info": {
   "codemirror_mode": {
    "name": "ipython",
    "version": 3
   },
   "file_extension": ".py",
   "mimetype": "text/x-python",
   "name": "python",
   "nbconvert_exporter": "python",
   "pygments_lexer": "ipython3",
   "version": "3.7.5"
  }
 },
 "nbformat": 4,
 "nbformat_minor": 4
}
