{
 "cells": [
  {
   "cell_type": "markdown",
   "metadata": {},
   "source": [
    "# Data Augmentation\n",
    "\n",
    "In this notebooks we'll develop the functions required to change tagged and untagged strings from a text in order to recreate a bigger dataset. It is imperative to retain the information of the tags, that may change due to differences in lenght.\n",
    "\n",
    "## Imports\n",
    "### Libraries"
   ]
  },
  {
   "cell_type": "code",
   "execution_count": 1,
   "metadata": {},
   "outputs": [],
   "source": [
    "import re, os, json, pickle\n",
    "import spacy\n",
    "from spacy import displacy\n",
    "import pandas as pd\n",
    "import numpy as np"
   ]
  },
  {
   "cell_type": "markdown",
   "metadata": {},
   "source": [
    "### Datasets"
   ]
  },
  {
   "cell_type": "code",
   "execution_count": 2,
   "metadata": {},
   "outputs": [],
   "source": [
    "data_dir = '../../data/estatutos/tagged/spacy_dataset_2020-5-6.pkl'"
   ]
  },
  {
   "cell_type": "code",
   "execution_count": null,
   "metadata": {},
   "outputs": [],
   "source": [
    "with open(data_dir, 'rb') as file:\n",
    "    dataset = pickle.load(file)"
   ]
  },
  {
   "cell_type": "markdown",
   "metadata": {},
   "source": [
    "## Dataset structure and objective function\n",
    "As we can see below, we have a dictionary with the name of the document as keys and more dictionaries as values.\n",
    "The structure is as follows:\n",
    "```python\n",
    "{\n",
    "    \"company_name\" :{\n",
    "        \"doc_id\" : \"original_name\",\n",
    "        \"pages\" : {\n",
    "            'page_number': {\n",
    "                'text_body_coords': [\n",
    "                    [int, int],\n",
    "                    [int, int],\n",
    "                    [int, int],\n",
    "                    [int, int]\n",
    "                ],\n",
    "                'lectura': 'text_containing in that page'\n",
    "            }\n",
    "        },\n",
    "        'text' : 'the concatenated text string of every page',\n",
    "        'entities': {\n",
    "            'search': ['list', 'of', 'entities', 'available', 'to', 'tag'],\n",
    "            'tags': [\n",
    "                {\n",
    "                    'tag': 'name_of_tag',\n",
    "                    'start': int, # where the entity starts on the string\n",
    "                    'finish': int, # same logic as above\n",
    "                    'text': 'string', # with the slice of the text marked before\n",
    "                    'value': 'string', # what it would look like after parsing\n",
    "                    'extra1': 'string', # not used\n",
    "                    'extra2': 'string', #not used\n",
    "                    'index': int, # for multi entity tags\n",
    "                }\n",
    "            ]\n",
    "        }\n",
    "         \n",
    "    }\n",
    "\n",
    "}\n",
    "```"
   ]
  },
  {
   "cell_type": "markdown",
   "metadata": {},
   "source": [
    "#### We're interested in modifying this part\n",
    "```python\n",
    "{\n",
    "    'doc_id' : 'original_name',\n",
    "    'pages' : {\n",
    "        'page_number': {\n",
    "            'text_body_coords': [\n",
    "                [int, int],\n",
    "                [int, int],\n",
    "                [int, int],\n",
    "                [int, int]\n",
    "            ],\n",
    "            'lectura': 'text_containing in that page'\n",
    "        }\n",
    "    },\n",
    "    'text' : 'the concatenated text string of every page',\n",
    "    'entities': {\n",
    "        'search': ['list', 'of', 'entities', 'available', 'to', 'tag'],\n",
    "        'tags': [\n",
    "            {\n",
    "                'tag': 'name_of_tag',\n",
    "                'start': int, # where the entity starts on the string\n",
    "                'finish': int, # same logic as above\n",
    "                'text': 'string', # with the slice of the text marked before\n",
    "                'value': 'string', # what it would look like after parsing\n",
    "                'extra1': 'string', # not used\n",
    "                'extra2': 'string', #not used\n",
    "                'index': int, # for multi entity tags\n",
    "            }\n",
    "        ]\n",
    "    }\n",
    "}\n",
    "```\n",
    "\n",
    "\n",
    "#### In order to achieve this, we'll create a class that takes as input that dictionary and modifies accordingly."
   ]
  },
  {
   "cell_type": "code",
   "execution_count": 4,
   "metadata": {},
   "outputs": [],
   "source": [
    "d1 = dataset['confecom_srl.']"
   ]
  },
  {
   "cell_type": "markdown",
   "metadata": {},
   "source": [
    "##### We delete the key that will not be currently used"
   ]
  },
  {
   "cell_type": "code",
   "execution_count": 5,
   "metadata": {},
   "outputs": [
    {
     "data": {
      "text/plain": [
       "{'0': {'text_body_coords': [[237, 348],\n",
       "   [1178, 332],\n",
       "   [260, 1686],\n",
       "   [1201, 1671]],\n",
       "  'lectura': 'O DE SOCIEDAD DE RESPONSABILIDAD LIMITADA. “CONFECOM S.\\n\\n12)\\n\\n \\n\\nROA, argentina, casada en primeras nupcias con Raul Alberto LESCA-\\n\\nNO, nacida el 10 de marzo de 1966, comerciante, titular del docu-\\nmento nacional de identidad número 17.636.488, C.U.I.T.: 27-\\n17636488-8, y Yamila Belén LESCANO, argentina, soltera, nacida el\\n6 de marzo de 1998, comerciante, titular del documento nácional de\\nidentidad número 41.048.026, C.U.I.L.: 27-41048026-9, ambos domici-\\nliados en Pico 4785, Ciudad Autónoma de Buenos Aires; resuelven de-\\njar constituida una sociedad de responsabilidad limitada que se re-\\n\\ngirá por la Ley número 19.550/22.903 y el siguiente estatuto:\\n\\nPRIMERA: La sociedad se denomina: \"CONFECOM S.R.L.\"” y tiene su do-\\nmicilio legal en jurisdicción de la Ciudad Autónoma de Buenos Ai-\\nres, pudiendo establecer agencias o sucursales en cualquier lugar\\n\\ndel país o del extranjero.-\\n\\nSEGUNDA: Su duración es de 99 años contados a partir de la inscrip-\\n\\nción en el Registro Público de Comercio. -\\n\\nTERCERA: La sociedad tiene por objeto realizar por cuenta propia o\\nde terceros, en forma independiente o asociadas a terceros, dentro\\no fuera de la República Argentina a las siguientes actividades:\\nCompraventa, importación, exportación, comercialización, represen-\\ntación, fabricación, refacción, composición, confección, depósi-\\nto, transporte, despacho e industrialización de todo tipo de ropa,\\nindumentaria, calzado y sus derivados, botonería, mercería, artícu-\\nlos textiles, materias primas, productos y subproductos destinados\\na la industria del vestido, y demás prendas y accesorios inheren-\\ntes al ramo. Para el cumplimiento del objeto social, la sociedad\\ntendrá plena capacidad jurídica para adquirir derechos y contraer\\nobligaciones y ejercer actos que no sean prohibidos por las leyes\\n\\no este estatuto.-\\n\\nCUARTA: El capital social se fija en la suma de pesos CINCUENTA\\nmil ($50.000) dividido en 5.000 cuotas de valor nominal $ 10 cada'},\n",
       " '1': {'text_body_coords': [[106, 302], [1040, 307], [98, 1651], [1032, 1656]],\n",
       "  'lectura': 'en un 23 por ciento y el resto se integrará dentro de los plazos\\n\\nlegales.-\\n\\nQUINTA: La administración y representación legal estará a cargo de\\nuno o más gerentes, socios o no, en forma individual e indistinta,\\npor el plazo de duración de la sociedad. En tal carácter tienen to-\\ndas las facultades para realizar los actos y contratos tendientes\\nal cumplimiento del objeto de la sociedad, inclusive los previstos\\nen los artículos 375, del Código Civil y Comercial, y 9 del Decre-\\nto ley 5.965/63.- Los gerentes garantizarán su gestión mediante la\\nconstitución de una garantía del tipo, modalidades y de los montos\\nno inferiores a los establecidos en las resoluciones vigentes de\\nla autoridad administrativa de control y las que se dicten con pos-\\n\\nterioridad.-\\n\\nSEXTA: Las resoluciones sociales se adoptarán en la forma dispues-\\nta en los arts. 159, primera parte párrafo segundo de la ley\\n19550.- Rigen las mayorías previstas en el art. 160 de la ley 19.\\n550.- y cada cuota da derecho a un voto. Toda comunicación o cita-\\nción a los socios se sujetará a lo dispuesto en el art. 159 último\\n\\npárrafo de la ley citada.-\\n\\nSEPTIMA: Las cuotas son transmisibles rigiendo las disposiciones\\ndel art. 153 de la ley 19.550, dejando constancia que para la ven-\\nta a extraños a la sociedad se requerirá la conformidad de la mayo-\\nría del capital, estableciendo a favor de los restantes socios un\\nderecho de preferencia en la compra de las cuotas sociales que se\\nvendan.-\\n\\nOCTAVA: El ejercicio social cierra el 31 de Marzo de cada año, a\\ncuya fecha se realizara el balance general que se pondrá a disposi-\\nción de los socios con no menos de 15 días de anticipación a su\\nconsideración.-\\n\\nNOVENA: De las utilidades liquidas y realizadas se destinarán: a)\\nEl 5% al fondo de reserva legal, hasta alcanzar el 20% del capital\\nsocial.- b)El importe que se establezca para retribución de los ge-\\nrentes y Cc) El remanente previa deducción de cualquier otra reser-\\nva que los socios dispusieran constituir, se distribuirá entre los\\nmismos en proporción al capital integrado.-\\n\\nDECIMA: Disuelta la sociedad por cualquiera de ¡as causales previs-\\ntas en el artículo 94 de la ley 19.550.-, la liquidación será prac-'},\n",
       " '2': {'text_body_coords': [[631, 318],\n",
       "   [1171, 345],\n",
       "   [590, 1153],\n",
       "   [1130, 1180]],\n",
       "  'lectura': 'la Ciudad Autónoma de\\n\\na veintidós de febrero de dos\\n\\nargentina,\\n\\nescribano autorizante comparecen : Dora\\n\\nna, nacida e1 10 de marzo de 1966, casada\\n\\n\\'on Raul Alberto Lescano». comerciante,\\n\\nentidad 17.636.488, CO ER 27-17636488-\\n\\nnacida el 6 de marzo d\\n\\nANO, argentina,\\n\\nte, Documento Nacional de Identidad 41.048\\n\\n1026-9», ambas con «Aomicilio real en Pic\\n\\npersonas que identifico de acuerdo\\n\\nya relacionada que en copia autentica:\\n\\nINTERVIENEN por si y manifiestan ser soci\\n\\n-iedad denominada \"* CONFECOM s.R.b.”,. <'}}"
      ]
     },
     "execution_count": 5,
     "metadata": {},
     "output_type": "execute_result"
    }
   ],
   "source": [
    "d1.pop('pages')"
   ]
  },
  {
   "cell_type": "markdown",
   "metadata": {},
   "source": [
    "### Visualization\n",
    "We'll create a simple function to transform data to be displayed in notebooks or html using displacy. To achieve this, the final shape of the dictionary should be:\n",
    "\n",
    "```python\n",
    "{\n",
    "    \"text\": \"But Google is starting from behind.\",\n",
    "    \"ents\": [{\"start\": 4, \"end\": 10, \"label\": \"ORG\"}],\n",
    "    \"title\": None\n",
    "}\n",
    "```"
   ]
  },
  {
   "cell_type": "code",
   "execution_count": 6,
   "metadata": {},
   "outputs": [
    {
     "data": {
      "text/plain": [
       "['firmantes_nombre',\n",
       " 'firmantes_dni',\n",
       " 'socios_nombre',\n",
       " 'razon_social',\n",
       " 'tipicidad',\n",
       " 'vigencia',\n",
       " 'capital',\n",
       " 'num_escritura',\n",
       " 'fecha_contrato',\n",
       " 'mandato_dir',\n",
       " 'tipo_rep_legal',\n",
       " 'facultades_firm',\n",
       " 'aporte_socios',\n",
       " 'fecha_cierre_ejercicio',\n",
       " 'objeto_social',\n",
       " 'cargo_firmantes',\n",
       " 'legal_domicilio',\n",
       " 'sede_domicilio',\n",
       " 'firma_domicilio',\n",
       " 'poderes_especiales',\n",
       " 'reservas_legales',\n",
       " 'garantias_directorio',\n",
       " 'aumentos_capital',\n",
       " 'firmante_domicilio',\n",
       " 'firmante_familiar',\n",
       " 'fecha_nacimiento',\n",
       " 'fecha_final_doc']"
      ]
     },
     "execution_count": 6,
     "metadata": {},
     "output_type": "execute_result"
    }
   ],
   "source": [
    "d1['entities'].pop('search')"
   ]
  },
  {
   "cell_type": "markdown",
   "metadata": {},
   "source": [
    "### We check our output"
   ]
  },
  {
   "cell_type": "code",
   "execution_count": 14,
   "metadata": {},
   "outputs": [],
   "source": [
    "class TaggedDoc:\n",
    "    def __init__(self, document):\n",
    "        self.document = document\n",
    "        self.spacy_ents = self._displacy_transform().get('ents')\n",
    "        self.title = document.get('doc_id')\n",
    "        self.ents = document.get('entities').get('tags')\n",
    "        self.text = document.get('text')\n",
    "        self.text_len = len(self.text)\n",
    "        self.ents_df = pd.DataFrame(self.ents)\n",
    "        \n",
    "    def _displacy_transform(self) -> dict:\n",
    "        ent_list = []\n",
    "        for tag in self.document['entities']['tags']:\n",
    "            ent_list.append(\n",
    "                {\n",
    "                    'start' : tag.get('start'),\n",
    "                    'end' : tag.get('end'),\n",
    "                    'label': tag.get('tag')\n",
    "                }\n",
    "            )\n",
    "\n",
    "        return {\n",
    "            'text' : self.document.get('text'),\n",
    "            'ents' : ent_list,\n",
    "            'title' : self.document.get('doc_id') \n",
    "        }\n",
    "    \n",
    "    def render(self, style='ent', jupyter=True, manual=True, page=False):\n",
    "        displacy.render(self._displacy_transform(), style=style, jupyter=jupyter, manual=manual, page=page)"
   ]
  },
  {
   "cell_type": "code",
   "execution_count": 15,
   "metadata": {},
   "outputs": [],
   "source": [
    "doc = TaggedDoc(d1)"
   ]
  },
  {
   "cell_type": "code",
   "execution_count": 9,
   "metadata": {},
   "outputs": [
    {
     "data": {
      "text/html": [
       "<span class=\"tex2jax_ignore\"><h2 style=\"margin: 0\">confecom_srl</h2>\n",
       "\n",
       "<div class=\"entities\" style=\"line-height: 2.5; direction: ltr\">O DE sociedad DE RESPONSABILIDAD LIMITADA. “CONFECOM S. 12) ROA, argentina casada en primeras nupcias con Raul Alberto LESCANO, nacida el 10 de marzo de 1966, comerciante, titular del documento nacional de identidad numero 17.636.488, C.U.I.T. 27-17636488-8, y Yamila Belen LESCANO, argentina soltera, nacida el \n",
       "<mark class=\"entity\" style=\"background: #ddd; padding: 0.45em 0.6em; margin: 0 0.25em; line-height: 1; border-radius: 0.35em;\">\n",
       "    6 de marzo de 1998\n",
       "    <span style=\"font-size: 0.8em; font-weight: bold; line-height: 1; border-radius: 0.35em; text-transform: uppercase; vertical-align: middle; margin-left: 0.5rem\">fecha_nacimiento</span>\n",
       "</mark>\n",
       "\n",
       "<mark class=\"entity\" style=\"background: #ddd; padding: 0.45em 0.6em; margin: 0 0.25em; line-height: 1; border-radius: 0.35em;\">\n",
       "    10 de marzo de 1966\n",
       "    <span style=\"font-size: 0.8em; font-weight: bold; line-height: 1; border-radius: 0.35em; text-transform: uppercase; vertical-align: middle; margin-left: 0.5rem\">fecha_nacimiento</span>\n",
       "</mark>\n",
       "\n",
       "<mark class=\"entity\" style=\"background: #ddd; padding: 0.45em 0.6em; margin: 0 0.25em; line-height: 1; border-radius: 0.35em;\">\n",
       "    Raul Alberto LESCANO\n",
       "    <span style=\"font-size: 0.8em; font-weight: bold; line-height: 1; border-radius: 0.35em; text-transform: uppercase; vertical-align: middle; margin-left: 0.5rem\">firmante_familiar</span>\n",
       "</mark>\n",
       ", nacida el 10 de marzo de 1966, comerciante, titular del documento nacional de identidad numero \n",
       "<mark class=\"entity\" style=\"background: #ddd; padding: 0.45em 0.6em; margin: 0 0.25em; line-height: 1; border-radius: 0.35em;\">\n",
       "    17.636.488\n",
       "    <span style=\"font-size: 0.8em; font-weight: bold; line-height: 1; border-radius: 0.35em; text-transform: uppercase; vertical-align: middle; margin-left: 0.5rem\">firmantes_dni</span>\n",
       "</mark>\n",
       ", C.U.I.T. 27-17636488-8, y \n",
       "<mark class=\"entity\" style=\"background: #ddd; padding: 0.45em 0.6em; margin: 0 0.25em; line-height: 1; border-radius: 0.35em;\">\n",
       "    Yamila Belen LESCANO\n",
       "    <span style=\"font-size: 0.8em; font-weight: bold; line-height: 1; border-radius: 0.35em; text-transform: uppercase; vertical-align: middle; margin-left: 0.5rem\">firmantes_nombre</span>\n",
       "</mark>\n",
       ", argentina soltera, nacida el 6 de marzo de 1998, comerciante, titular del documento nacional de identidad numero \n",
       "<mark class=\"entity\" style=\"background: #ddd; padding: 0.45em 0.6em; margin: 0 0.25em; line-height: 1; border-radius: 0.35em;\">\n",
       "    41.048.026\n",
       "    <span style=\"font-size: 0.8em; font-weight: bold; line-height: 1; border-radius: 0.35em; text-transform: uppercase; vertical-align: middle; margin-left: 0.5rem\">firmantes_dni</span>\n",
       "</mark>\n",
       ", C.U.I.L. 27-41048026-9, ambos \n",
       "<mark class=\"entity\" style=\"background: #ddd; padding: 0.45em 0.6em; margin: 0 0.25em; line-height: 1; border-radius: 0.35em;\">\n",
       "    domiciliado en Pico 4785, ciudad autonoma de buenos Aires;\n",
       "    <span style=\"font-size: 0.8em; font-weight: bold; line-height: 1; border-radius: 0.35em; text-transform: uppercase; vertical-align: middle; margin-left: 0.5rem\">firmante_domicilio</span>\n",
       "</mark>\n",
       " resuelven dejar constituida una \n",
       "<mark class=\"entity\" style=\"background: #ddd; padding: 0.45em 0.6em; margin: 0 0.25em; line-height: 1; border-radius: 0.35em;\">\n",
       "    sociedad de responsabilidad limitada\n",
       "    <span style=\"font-size: 0.8em; font-weight: bold; line-height: 1; border-radius: 0.35em; text-transform: uppercase; vertical-align: middle; margin-left: 0.5rem\">tipicidad</span>\n",
       "</mark>\n",
       " que se regira por la Ley numero 19.550/22.903 y el siguiente estatuto primera La sociedad se denomina &quot;\n",
       "<mark class=\"entity\" style=\"background: #ddd; padding: 0.45em 0.6em; margin: 0 0.25em; line-height: 1; border-radius: 0.35em;\">\n",
       "    CONFECOM S.R.L.&quot;\n",
       "    <span style=\"font-size: 0.8em; font-weight: bold; line-height: 1; border-radius: 0.35em; text-transform: uppercase; vertical-align: middle; margin-left: 0.5rem\">razon_social</span>\n",
       "</mark>\n",
       "” y tiene su domicilio legal en jurisdiccion de la \n",
       "<mark class=\"entity\" style=\"background: #ddd; padding: 0.45em 0.6em; margin: 0 0.25em; line-height: 1; border-radius: 0.35em;\">\n",
       "    ciudad autonoma de buenos Aires\n",
       "    <span style=\"font-size: 0.8em; font-weight: bold; line-height: 1; border-radius: 0.35em; text-transform: uppercase; vertical-align: middle; margin-left: 0.5rem\">legal_domicilio</span>\n",
       "</mark>\n",
       ", pudiendo establecer agencias o sucursales en cualquier lugar del pais o del extranjero.- segunda Su duracion es de \n",
       "<mark class=\"entity\" style=\"background: #ddd; padding: 0.45em 0.6em; margin: 0 0.25em; line-height: 1; border-radius: 0.35em;\">\n",
       "    99\n",
       "    <span style=\"font-size: 0.8em; font-weight: bold; line-height: 1; border-radius: 0.35em; text-transform: uppercase; vertical-align: middle; margin-left: 0.5rem\">vigencia</span>\n",
       "</mark>\n",
       " años contados a partir de la inscripcion en el registro Publico de Comercio. - TERCERA\n",
       "<mark class=\"entity\" style=\"background: #ddd; padding: 0.45em 0.6em; margin: 0 0.25em; line-height: 1; border-radius: 0.35em;\">\n",
       "     La sociedad tiene por objeto realizar por cuenta propia o de terceros, en forma independiente o asociadas a terceros, dentro o fuera de la republica argentino a las siguientes actividades Compraventa, importacion, exportacion, comercializacion, representacion, fabricacion, refaccion, composicion, confeccion, deposito, transporte, despacho e industrializacion de todo tipo de ropa, indumentaria, calzado y sus derivados, botoneria, merceria, articulos textiles, materias primas, productos y subproductos destinados a la industria del vestido, y demas prendas y accesorios inherentes al ramo. Para el cumplimiento del objeto social, la sociedad tendra plena capacidad juridica para adquirir derechos y contraer obligaciones y ejercer actos que no sean prohibidos por las leyes o este estatuto\n",
       "    <span style=\"font-size: 0.8em; font-weight: bold; line-height: 1; border-radius: 0.35em; text-transform: uppercase; vertical-align: middle; margin-left: 0.5rem\">objeto_social</span>\n",
       "</mark>\n",
       ".- CUARTA El capital social se fija en la suma de pesos \n",
       "<mark class=\"entity\" style=\"background: #ddd; padding: 0.45em 0.6em; margin: 0 0.25em; line-height: 1; border-radius: 0.35em;\">\n",
       "    cincuenta mil ($50.000)\n",
       "    <span style=\"font-size: 0.8em; font-weight: bold; line-height: 1; border-radius: 0.35em; text-transform: uppercase; vertical-align: middle; margin-left: 0.5rem\">capital</span>\n",
       "</mark>\n",
       " dividido en 5.000 cuotas de valor nominal $ 10 cada en un 23 por ciento y el resto se integrara dentro de los plazos legales.- QUINTA La administracion y representacion legal estara a cargo de uno o mas gerentes, socios o no, en forma \n",
       "<mark class=\"entity\" style=\"background: #ddd; padding: 0.45em 0.6em; margin: 0 0.25em; line-height: 1; border-radius: 0.35em;\">\n",
       "    individual e indistinta\n",
       "    <span style=\"font-size: 0.8em; font-weight: bold; line-height: 1; border-radius: 0.35em; text-transform: uppercase; vertical-align: middle; margin-left: 0.5rem\">tipo_rep_legal</span>\n",
       "</mark>\n",
       ", por el \n",
       "<mark class=\"entity\" style=\"background: #ddd; padding: 0.45em 0.6em; margin: 0 0.25em; line-height: 1; border-radius: 0.35em;\">\n",
       "    plazo de duracion de la sociedad\n",
       "    <span style=\"font-size: 0.8em; font-weight: bold; line-height: 1; border-radius: 0.35em; text-transform: uppercase; vertical-align: middle; margin-left: 0.5rem\">mandato_dir</span>\n",
       "</mark>\n",
       " \n",
       "<mark class=\"entity\" style=\"background: #ddd; padding: 0.45em 0.6em; margin: 0 0.25em; line-height: 1; border-radius: 0.35em;\">\n",
       "    En tal caracter tienen todas las facultades para realizar los actos y contrato tendientes al cumplimiento del objeto de la sociedad inclusive los previstos en los articulos 375, del Codigo Civil y Comercial, y 9 del Decreto ley 5.965/63\n",
       "    <span style=\"font-size: 0.8em; font-weight: bold; line-height: 1; border-radius: 0.35em; text-transform: uppercase; vertical-align: middle; margin-left: 0.5rem\">facultades_firm</span>\n",
       "</mark>\n",
       ".-\n",
       "<mark class=\"entity\" style=\"background: #ddd; padding: 0.45em 0.6em; margin: 0 0.25em; line-height: 1; border-radius: 0.35em;\">\n",
       "     Los gerentes garantizaran su gestion mediante la constitucion de una garantia del tipo, modalidades y de los montos no inferiores a los establecidos en las resoluciones vigentes de la autoridad administrativa de control y las que se dicten con posterioridad\n",
       "    <span style=\"font-size: 0.8em; font-weight: bold; line-height: 1; border-radius: 0.35em; text-transform: uppercase; vertical-align: middle; margin-left: 0.5rem\">garantias_directorio</span>\n",
       "</mark>\n",
       ".- SEXTA Las resoluciones sociales se adoptaran en la forma dispuesta en los arts. 159, primera parte parrafo segundo de la ley 19550.- Rigen las mayorias previstas en el art. 160 de la ley 19.550.- y cada cuota da derecho a un voto. Toda comunicacion o citacion a los socios se sujetara a lo dispuesto en el art. 159 ultimo parrafo de la ley citada.- SEPTIMA Las cuotas son transmisibles rigiendo las disposiciones del art. 153 de la ley 19.550, dejando constancia que para la venta a extraños a la sociedad se requerira la conformidad de la mayoria del capital, estableciendo a favor de los restantes socios un derecho de preferencia en la compra de las cuotas sociales que se vendan.- OCTAVA El ejercicio social cierra el \n",
       "<mark class=\"entity\" style=\"background: #ddd; padding: 0.45em 0.6em; margin: 0 0.25em; line-height: 1; border-radius: 0.35em;\">\n",
       "    31 de Marzo\n",
       "    <span style=\"font-size: 0.8em; font-weight: bold; line-height: 1; border-radius: 0.35em; text-transform: uppercase; vertical-align: middle; margin-left: 0.5rem\">fecha_cierre_ejercicio</span>\n",
       "</mark>\n",
       " de cada año, a cuya fecha se realizara el balance general que se pondra a disposiciones de los socios con no menos de 15 dias de anticipacion a su consideracion.- NOVENA \n",
       "<mark class=\"entity\" style=\"background: #ddd; padding: 0.45em 0.6em; margin: 0 0.25em; line-height: 1; border-radius: 0.35em;\">\n",
       "    De las utilidades liquidas y realizadas se destinaran a) El 5% al fondo de reserva legal, hasta alcanzar el 20% del capital social.- b)El importe que se establezca para retribucion de los gerentes y Cc) El remanente previa deduccion de cualquier otra reserva que los socios dispusieran constituir se distribuira entre los mismos en proporcion al capital integrado\n",
       "    <span style=\"font-size: 0.8em; font-weight: bold; line-height: 1; border-radius: 0.35em; text-transform: uppercase; vertical-align: middle; margin-left: 0.5rem\">reservas_legales</span>\n",
       "</mark>\n",
       ".- DECIMA Disuelta la sociedad por cualquiera de ¡as causales previstas en el articulo 94 de la ley 19.550.-, la liquidacion sera pracla ciudad autonoma de a veintidos de febrero de dos argentina escribano autorizante comparecen Dora na, nacida e1 10 de marzo de 1966, casada 'on Raul Alberto Lescano». comerciante, entidad 17.636.488, CO ER 27-17636488- nacida el 6 de marzo d ANO, argentina te, documento nacional de identidad 41.0481026-9 », ambas con «Aomicilio real en Pic personas que identifico de acuerdo ya relacionada que en copia autentica INTERVIENEN por si y manifiestan ser soci -iedad denominada &quot;* CONFECOM s.R.b.”,. &lt;</div></span>"
      ],
      "text/plain": [
       "<IPython.core.display.HTML object>"
      ]
     },
     "metadata": {},
     "output_type": "display_data"
    }
   ],
   "source": [
    "doc.render()"
   ]
  },
  {
   "cell_type": "markdown",
   "metadata": {},
   "source": [
    "##### With the following list comprehension we get the same list strucure as the one found in TaggedDoc.ents"
   ]
  },
  {
   "cell_type": "markdown",
   "metadata": {},
   "source": [
    "--------------------------------------------------------------------\n",
    "## Augmentation functions\n",
    "There are 2 main functions to be developed:\n",
    "1) One or more that create random entities.\n",
    "\n",
    "2) Another that plugs the new entities into the original text and keeps track of the positions.\n",
    "\n",
    "\n",
    "We need to create one or more functions that generate new entities.\n",
    "- Name generator: from AFIP\n",
    "- Date generator: 3 different formats, 366 days = 1098 possibilities.\n",
    "- Vigencia generator: both spelled and numerical\n",
    "- Tipicidad generator: 3 types, 6 categories, rather easy.\n",
    "- Fecha cierre ejercicio generator: spelled, numerical and mixed.\n",
    "- Mandato dir generator: written years, fiscal years, numeric, mixed and different types of undefined.\n",
    "- Razon Social generator: from AFIP\n",
    "- Capital generator: might be tricky\n",
    "- DNI generator: from AFIP\n",
    "\n",
    "Let's begin with the easier ones. We acquired a dataset from AFIP that contains Names and CUITs for each registered individual in the country. We need to parse and randomize the generation of names, for each labeled name category.\n",
    "\n",
    "The rather complicated part is to match strings with different lenghts into the text without loosing track of the position of the others."
   ]
  },
  {
   "cell_type": "code",
   "execution_count": null,
   "metadata": {},
   "outputs": [],
   "source": []
  },
  {
   "cell_type": "code",
   "execution_count": null,
   "metadata": {},
   "outputs": [],
   "source": []
  },
  {
   "cell_type": "markdown",
   "metadata": {},
   "source": [
    "#### Index augmentation\n",
    "\n",
    "This function allows us to mantain the relationship between the slices of each entity. For every extra character replaced, the following entities change their start and finish values. The same happens if the new string is shorter."
   ]
  },
  {
   "cell_type": "code",
   "execution_count": 13,
   "metadata": {},
   "outputs": [],
   "source": [
    "def index_augmentation(df_ents):\n",
    "    new_ents = df_ents.copy()\n",
    "    new_ents = new_ents.sort_values('start')\n",
    "    new_ents.index = range(new_ents.shape[0])\n",
    "    new_ents['len'] = new_ents.text.apply(len)\n",
    "    new_ents['new_len'] = new_ents.new_text.apply(len)\n",
    "    new_ents['diff'] = new_ents['new_len'] - new_ents['len']\n",
    "    indecis = new_ents.loc[new_ents.diff != 0].index.to_list()\n",
    "    \n",
    "    for index in indecis:\n",
    "        diff = new_ents.loc[index, 'diff']\n",
    "        new_ents.loc[index, 'end'] = new_ents.loc[index, 'end'] + diff\n",
    "        new_ents.loc[index+1:,'start'] = new_ents.loc[index+1:,'start'] + diff\n",
    "        new_ents.loc[index+1:,'end'] = new_ents.loc[index+1:,'end'] + diff\n",
    "    \n",
    "    return [tagged_entity for tagged_entity in new_ents.T.to_dict().values()]"
   ]
  },
  {
   "cell_type": "code",
   "execution_count": null,
   "metadata": {},
   "outputs": [],
   "source": []
  }
 ],
 "metadata": {
  "kernelspec": {
   "display_name": "Python 3",
   "language": "python",
   "name": "python3"
  },
  "language_info": {
   "codemirror_mode": {
    "name": "ipython",
    "version": 3
   },
   "file_extension": ".py",
   "mimetype": "text/x-python",
   "name": "python",
   "nbconvert_exporter": "python",
   "pygments_lexer": "ipython3",
   "version": "3.7.5"
  }
 },
 "nbformat": 4,
 "nbformat_minor": 4
}
