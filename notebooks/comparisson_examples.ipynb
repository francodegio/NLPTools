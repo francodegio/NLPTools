{
 "cells": [
  {
   "cell_type": "markdown",
   "metadata": {},
   "source": [
    "# Comparisson Module"
   ]
  },
  {
   "cell_type": "markdown",
   "metadata": {},
   "source": [
    "A suite of functions to evaluate word similarity. If you're interested\n",
    "in knowing how similar words are, please use the rapidfuzz library."
   ]
  },
  {
   "cell_type": "markdown",
   "metadata": {},
   "source": [
    "### is_similar_word"
   ]
  },
  {
   "cell_type": "markdown",
   "metadata": {},
   "source": [
    "Evaluates if two given words are similar acording to a threshold\n",
    "\n",
    "Parameters\n",
    "\n",
    "\n",
    "__word1:__ `str` <br>\n",
    "    A word intended to evaluate. <br>\n",
    "__word2:__ `str` <br>\n",
    "    A second word to compare to the first. <br>\n",
    "__threshold:__ `float, optional` <br>\n",
    "    The level of similarity required for considering them equivalent, by default 0.8. <br>\n",
    "   \n",
    "Returns <br>\n",
    "    `bool` <br>\n",
    "True if the similarity ratio is over the threshold.\n",
    "\n",
    "\n",
    "\n"
   ]
  },
  {
   "cell_type": "markdown",
   "metadata": {},
   "source": [
    "#### Examples"
   ]
  },
  {
   "cell_type": "code",
   "execution_count": 3,
   "metadata": {},
   "outputs": [],
   "source": [
    "from nlptools.comparisson import is_similar_word"
   ]
  },
  {
   "cell_type": "code",
   "execution_count": 4,
   "metadata": {},
   "outputs": [
    {
     "data": {
      "text/plain": [
       "False"
      ]
     },
     "execution_count": 4,
     "metadata": {},
     "output_type": "execute_result"
    }
   ],
   "source": [
    "is_similar_word('Apple','Banana')"
   ]
  },
  {
   "cell_type": "code",
   "execution_count": 5,
   "metadata": {},
   "outputs": [
    {
     "data": {
      "text/plain": [
       "True"
      ]
     },
     "execution_count": 5,
     "metadata": {},
     "output_type": "execute_result"
    }
   ],
   "source": [
    "is_similar_word('Apple','Aple', 0.5)"
   ]
  },
  {
   "cell_type": "code",
   "execution_count": 6,
   "metadata": {},
   "outputs": [
    {
     "data": {
      "text/plain": [
       "True"
      ]
     },
     "execution_count": 6,
     "metadata": {},
     "output_type": "execute_result"
    }
   ],
   "source": [
    "is_similar_word('Apple','Apple')"
   ]
  },
  {
   "cell_type": "markdown",
   "metadata": {},
   "source": [
    "### is_similar_sentence"
   ]
  },
  {
   "cell_type": "markdown",
   "metadata": {},
   "source": [
    "Compare the given words and returns true or false if their coincidence <br>\n",
    "are upper the compare_threshold param. <br>\n",
    "\n",
    "Parameters: <br>\n",
    "- __sentence1:__ `str` <br>\n",
    "First given sentence <br>\n",
    "\n",
    "- __sentence2:__ `str` <br>\n",
    "Second given sentence\n",
    "\n",
    "- __threshold:__ `float, optional` <br>\n",
    "The level of similarity required for considering them equivalent, by default 0.8. <br>\n",
    "\n",
    "- __ratio_func:__ `str` <br>\n",
    "Function to evaluate similarity. Can be `ratio` or `QRatio`, by default `ratio`. <br>\n",
    "\n",
    "__Returns:__ <br>\n",
    "- `bool` <br>\n",
    "True if similarity between words is above the threshold"
   ]
  },
  {
   "cell_type": "markdown",
   "metadata": {},
   "source": [
    "#### Examples"
   ]
  },
  {
   "cell_type": "code",
   "execution_count": 7,
   "metadata": {},
   "outputs": [],
   "source": [
    "from nlptools.comparisson import is_similar_sentence"
   ]
  },
  {
   "cell_type": "code",
   "execution_count": 8,
   "metadata": {},
   "outputs": [
    {
     "data": {
      "text/plain": [
       "False"
      ]
     },
     "execution_count": 8,
     "metadata": {},
     "output_type": "execute_result"
    }
   ],
   "source": [
    "is_similar_sentence('Luke, I am your father','Nooooooooooooo!')"
   ]
  },
  {
   "cell_type": "code",
   "execution_count": 9,
   "metadata": {},
   "outputs": [
    {
     "data": {
      "text/plain": [
       "True"
      ]
     },
     "execution_count": 9,
     "metadata": {},
     "output_type": "execute_result"
    }
   ],
   "source": [
    "is_similar_sentence('Luke, I am your father', 'Luke, I am probably your father', 0.5)"
   ]
  },
  {
   "cell_type": "code",
   "execution_count": 10,
   "metadata": {},
   "outputs": [
    {
     "data": {
      "text/plain": [
       "True"
      ]
     },
     "execution_count": 10,
     "metadata": {},
     "output_type": "execute_result"
    }
   ],
   "source": [
    "is_similar_sentence('Luke, I am your father', 'Luke, I am not your father', ratio_func='QRatio')"
   ]
  },
  {
   "cell_type": "markdown",
   "metadata": {},
   "source": [
    "### similar_word_in_sentence"
   ]
  },
  {
   "cell_type": "markdown",
   "metadata": {},
   "source": [
    "Searches if a certain word is similar to other contained in a sentence. <br>\n",
    "\n",
    "Parameters: <br>\n",
    "\n",
    "- __word:__ `str` <br>\n",
    "The word intended to find in a sentence. <br>\n",
    "\n",
    "- __sentence_list:__ `list` <br>\n",
    "The list of words of a sentences where the words might be. <br>\n",
    "\n",
    "- __threshold:__ `float, optional` <br>\n",
    "The level of similarity required for considering them equivalent, by default 0.8. <br>\n",
    "\n",
    "- __ration_func:__ `str, optional` <br>\n",
    "The function that will evaluate the similarity. Can be `ratio` or `QRatio`, by default 'ratio'. <br>\n",
    "\n",
    "Returns: <br>\n",
    "\n",
    "- __`bool`__ <br>\n",
    "True if there is a similar word in the sentence.\n",
    "\n"
   ]
  },
  {
   "cell_type": "markdown",
   "metadata": {},
   "source": [
    "#### Examples"
   ]
  },
  {
   "cell_type": "code",
   "execution_count": 11,
   "metadata": {},
   "outputs": [],
   "source": [
    "from nlptools.comparisson import similar_word_in_sentence"
   ]
  },
  {
   "cell_type": "code",
   "execution_count": 12,
   "metadata": {},
   "outputs": [
    {
     "data": {
      "text/plain": [
       "True"
      ]
     },
     "execution_count": 12,
     "metadata": {},
     "output_type": "execute_result"
    }
   ],
   "source": [
    "similar_word_in_sentence('cat',['The','cat','is','under','the','table'])"
   ]
  },
  {
   "cell_type": "code",
   "execution_count": 13,
   "metadata": {},
   "outputs": [
    {
     "data": {
      "text/plain": [
       "False"
      ]
     },
     "execution_count": 13,
     "metadata": {},
     "output_type": "execute_result"
    }
   ],
   "source": [
    "similar_word_in_sentence('cat',['The','catd','is','under','the','table'],0.9)"
   ]
  },
  {
   "cell_type": "code",
   "execution_count": 14,
   "metadata": {},
   "outputs": [
    {
     "data": {
      "text/plain": [
       "True"
      ]
     },
     "execution_count": 14,
     "metadata": {},
     "output_type": "execute_result"
    }
   ],
   "source": [
    "similar_word_in_sentence('cat',['The','catd','is','under','the','table'],0.5, ratio_func='QRatio')"
   ]
  },
  {
   "cell_type": "markdown",
   "metadata": {},
   "source": [
    "### is_sentence_contained_in_longer_sentence"
   ]
  },
  {
   "cell_type": "markdown",
   "metadata": {},
   "source": [
    "Checks if a shorter sentence is within a longer sentence. <br>\n",
    "\n",
    "Parameters: <br>\n",
    "\n",
    "- __short_sentence:__ `str` <br>\n",
    "The sentence that might be within the other string. <br>\n",
    "\n",
    "- __long_sentence:__ `str` <br>\n",
    "The sentence that might contain the short sentence. <br>\n",
    "\n",
    "- __threshold:__ `float, optional` <br>\n",
    "The level of similarity required for considering them equivalent, by default 0.8. <br>\n",
    "\n",
    "Returns: <br>\n",
    "\n",
    "- __`bool`__ <br>\n",
    "True if short sentence is partially contained in the long sentence. <br>"
   ]
  },
  {
   "cell_type": "markdown",
   "metadata": {},
   "source": [
    "#### Examples"
   ]
  },
  {
   "cell_type": "code",
   "execution_count": 17,
   "metadata": {},
   "outputs": [],
   "source": [
    "from nlptools.comparisson import is_sentence_contained_in_longer_sentence"
   ]
  },
  {
   "cell_type": "code",
   "execution_count": 18,
   "metadata": {},
   "outputs": [
    {
     "data": {
      "text/plain": [
       "True"
      ]
     },
     "execution_count": 18,
     "metadata": {},
     "output_type": "execute_result"
    }
   ],
   "source": [
    "is_sentence_contained_in_longer_sentence('the best of you','Is someone getting the best, the best, the best of you?')"
   ]
  },
  {
   "cell_type": "code",
   "execution_count": 19,
   "metadata": {},
   "outputs": [
    {
     "data": {
      "text/plain": [
       "False"
      ]
     },
     "execution_count": 19,
     "metadata": {},
     "output_type": "execute_result"
    }
   ],
   "source": [
    "is_sentence_contained_in_longer_sentence('the worst of you','Is someone getting the best, the best, the best of you?')"
   ]
  },
  {
   "cell_type": "code",
   "execution_count": 20,
   "metadata": {},
   "outputs": [
    {
     "data": {
      "text/plain": [
       "True"
      ]
     },
     "execution_count": 20,
     "metadata": {},
     "output_type": "execute_result"
    }
   ],
   "source": [
    "is_sentence_contained_in_longer_sentence('the best of you','Is someone getting the best, the best, the best of you?',0.9)"
   ]
  },
  {
   "cell_type": "markdown",
   "metadata": {},
   "source": [
    "### get_similar_word_in_sentence"
   ]
  },
  {
   "cell_type": "markdown",
   "metadata": {},
   "source": [
    "Returns the word in the sentence that is similar to the word provided. <br>\n",
    "\n",
    "Parameters: <br>\n",
    "\n",
    "- __word:__ `str` <br>\n",
    "Word intended to be found in the list of words. <br>\n",
    "\n",
    "- __list_of_words:__ `list` <br>\n",
    " List of words of a sentence. <br>\n",
    " \n",
    "- __threshold:__ `float, optional` <br>\n",
    "The level of similarity required for considering them equivalent, by default 0.8. <br>\n",
    " \n",
    "- __ration_func:__ `str, optional` <br>\n",
    "The function that will evaluate the similarity. Can be `ratio` or `QRatio`, by default 'ratio'. <br>\n",
    "\n",
    "Returns: <br>\n",
    "\n",
    "- __Optional[`str`]__ <br>\n",
    "Returns the word in the sentence that is similar to the one provided. If there are not similar\n",
    "words to the one provided, will return None.\n"
   ]
  },
  {
   "cell_type": "markdown",
   "metadata": {},
   "source": [
    "#### Examples"
   ]
  },
  {
   "cell_type": "code",
   "execution_count": 21,
   "metadata": {},
   "outputs": [],
   "source": [
    "from nlptools.comparisson import get_similar_word_in_sentence"
   ]
  },
  {
   "cell_type": "code",
   "execution_count": 22,
   "metadata": {},
   "outputs": [
    {
     "data": {
      "text/plain": [
       "'apple'"
      ]
     },
     "execution_count": 22,
     "metadata": {},
     "output_type": "execute_result"
    }
   ],
   "source": [
    "get_similar_word_in_sentence('apple', ['The', 'apple', 'is', 'red'])"
   ]
  },
  {
   "cell_type": "code",
   "execution_count": null,
   "metadata": {},
   "outputs": [],
   "source": []
  }
 ],
 "metadata": {
  "kernelspec": {
   "display_name": "Python 3",
   "language": "python",
   "name": "python3"
  },
  "language_info": {
   "codemirror_mode": {
    "name": "ipython",
    "version": 3
   },
   "file_extension": ".py",
   "mimetype": "text/x-python",
   "name": "python",
   "nbconvert_exporter": "python",
   "pygments_lexer": "ipython3",
   "version": "3.7.6"
  }
 },
 "nbformat": 4,
 "nbformat_minor": 4
}
