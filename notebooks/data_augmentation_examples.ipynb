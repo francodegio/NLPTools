{
 "cells": [
  {
   "cell_type": "markdown",
   "metadata": {},
   "source": [
    "# Data Augmentation Module"
   ]
  },
  {
   "cell_type": "markdown",
   "metadata": {},
   "source": [
    "Here you can find a suite of tools to work with tagged documents. You can render them or \n",
    "create synthetic documents to supersample your dataset. <br>\n"
   ]
  },
  {
   "cell_type": "markdown",
   "metadata": {},
   "source": [
    "## Classes"
   ]
  },
  {
   "cell_type": "markdown",
   "metadata": {},
   "source": [
    "### TaggedDoc"
   ]
  },
  {
   "cell_type": "markdown",
   "metadata": {},
   "source": [
    "Takes a tagged document in dictionary format and creates an object. <br>\n",
    "\n",
    "Attributes: <br>\n",
    "\n",
    "- __TaggedDoc.document__ <br>\n",
    "Returns the same dictionary that was provided.\n",
    "\n",
    "- __TaggedDoc.displacy_ents__ <br>\n",
    "Returns a list of dictionaries with every entity tagged. Each dictionary contains keys: \n",
    "`start`, `end` and `label`. <br>\n",
    "\n",
    "- __TaggedDoc.title__ <br>\n",
    "Returns the `doc_id` of the document provided. <br>\n",
    "\n",
    "- __TaggedDoc.text__ <br> \n",
    " Returns the entire text of the document provided. <br>\n",
    " \n",
    "- __TaggedDoc.text_len__ <br>\n",
    "Returns the lenght of the document measured in characters. <br>\n",
    "\n",
    "- __TaggedDoc.ents_df__ <br>\n",
    "Returns a pandas.DataFrame object with the entities tagged. <br>\n",
    "\n",
    "Methods: <br>\n",
    "\n",
    "- __TaggedDoc.render__\n",
    "- __TaggedDoc.index_augmentation__\n",
    "- __TaggedDoc.save_render__"
   ]
  },
  {
   "cell_type": "markdown",
   "metadata": {},
   "source": [
    "#### Examples"
   ]
  },
  {
   "cell_type": "code",
   "execution_count": 1,
   "metadata": {},
   "outputs": [],
   "source": [
    "from nlptools.data_augmentation import TaggedDoc\n",
    "from nlptools.example import example_data"
   ]
  },
  {
   "cell_type": "code",
   "execution_count": 2,
   "metadata": {},
   "outputs": [],
   "source": [
    "tagged = TaggedDoc(example_data)"
   ]
  },
  {
   "cell_type": "code",
   "execution_count": 3,
   "metadata": {},
   "outputs": [
    {
     "data": {
      "text/plain": [
       "{'doc_id': 'confecom_srl',\n",
       " 'pages': {'0': {'text_body_coords': [[237, 348],\n",
       "    [1178, 332],\n",
       "    [260, 1686],\n",
       "    [1201, 1671]],\n",
       "   'lectura': 'O DE SOCIEDAD DE RESPONSABILIDAD LIMITADA. “CONFECOM S.\\n\\n12)\\n\\n \\n\\nROA, argentina, casada en primeras nupcias con Raul Alberto LESCA-\\n\\nNO, nacida el 10 de marzo de 1966, comerciante, titular del docu-\\nmento nacional de identidad número 17.636.488, C.U.I.T.: 27-\\n17636488-8, y Yamila Belén LESCANO, argentina, soltera, nacida el\\n6 de marzo de 1998, comerciante, titular del documento nácional de\\nidentidad número 41.048.026, C.U.I.L.: 27-41048026-9, ambos domici-\\nliados en Pico 4785, Ciudad Autónoma de Buenos Aires; resuelven de-\\njar constituida una sociedad de responsabilidad limitada que se re-\\n\\ngirá por la Ley número 19.550/22.903 y el siguiente estatuto:\\n\\nPRIMERA: La sociedad se denomina: \"CONFECOM S.R.L.\"” y tiene su do-\\nmicilio legal en jurisdicción de la Ciudad Autónoma de Buenos Ai-\\nres, pudiendo establecer agencias o sucursales en cualquier lugar\\n\\ndel país o del extranjero.-\\n\\nSEGUNDA: Su duración es de 99 años contados a partir de la inscrip-\\n\\nción en el Registro Público de Comercio. -\\n\\nTERCERA: La sociedad tiene por objeto realizar por cuenta propia o\\nde terceros, en forma independiente o asociadas a terceros, dentro\\no fuera de la República Argentina a las siguientes actividades:\\nCompraventa, importación, exportación, comercialización, represen-\\ntación, fabricación, refacción, composición, confección, depósi-\\nto, transporte, despacho e industrialización de todo tipo de ropa,\\nindumentaria, calzado y sus derivados, botonería, mercería, artícu-\\nlos textiles, materias primas, productos y subproductos destinados\\na la industria del vestido, y demás prendas y accesorios inheren-\\ntes al ramo. Para el cumplimiento del objeto social, la sociedad\\ntendrá plena capacidad jurídica para adquirir derechos y contraer\\nobligaciones y ejercer actos que no sean prohibidos por las leyes\\n\\no este estatuto.-\\n\\nCUARTA: El capital social se fija en la suma de pesos CINCUENTA\\nmil ($50.000) dividido en 5.000 cuotas de valor nominal $ 10 cada'},\n",
       "  '1': {'text_body_coords': [[106, 302],\n",
       "    [1040, 307],\n",
       "    [98, 1651],\n",
       "    [1032, 1656]],\n",
       "   'lectura': 'en un 23 por ciento y el resto se integrará dentro de los plazos\\n\\nlegales.-\\n\\nQUINTA: La administración y representación legal estará a cargo de\\nuno o más gerentes, socios o no, en forma individual e indistinta,\\npor el plazo de duración de la sociedad. En tal carácter tienen to-\\ndas las facultades para realizar los actos y contratos tendientes\\nal cumplimiento del objeto de la sociedad, inclusive los previstos\\nen los artículos 375, del Código Civil y Comercial, y 9 del Decre-\\nto ley 5.965/63.- Los gerentes garantizarán su gestión mediante la\\nconstitución de una garantía del tipo, modalidades y de los montos\\nno inferiores a los establecidos en las resoluciones vigentes de\\nla autoridad administrativa de control y las que se dicten con pos-\\n\\nterioridad.-\\n\\nSEXTA: Las resoluciones sociales se adoptarán en la forma dispues-\\nta en los arts. 159, primera parte párrafo segundo de la ley\\n19550.- Rigen las mayorías previstas en el art. 160 de la ley 19.\\n550.- y cada cuota da derecho a un voto. Toda comunicación o cita-\\nción a los socios se sujetará a lo dispuesto en el art. 159 último\\n\\npárrafo de la ley citada.-\\n\\nSEPTIMA: Las cuotas son transmisibles rigiendo las disposiciones\\ndel art. 153 de la ley 19.550, dejando constancia que para la ven-\\nta a extraños a la sociedad se requerirá la conformidad de la mayo-\\nría del capital, estableciendo a favor de los restantes socios un\\nderecho de preferencia en la compra de las cuotas sociales que se\\nvendan.-\\n\\nOCTAVA: El ejercicio social cierra el 31 de Marzo de cada año, a\\ncuya fecha se realizara el balance general que se pondrá a disposi-\\nción de los socios con no menos de 15 días de anticipación a su\\nconsideración.-\\n\\nNOVENA: De las utilidades liquidas y realizadas se destinarán: a)\\nEl 5% al fondo de reserva legal, hasta alcanzar el 20% del capital\\nsocial.- b)El importe que se establezca para retribución de los ge-\\nrentes y Cc) El remanente previa deducción de cualquier otra reser-\\nva que los socios dispusieran constituir, se distribuirá entre los\\nmismos en proporción al capital integrado.-\\n\\nDECIMA: Disuelta la sociedad por cualquiera de ¡as causales previs-\\ntas en el artículo 94 de la ley 19.550.-, la liquidación será prac-'},\n",
       "  '2': {'text_body_coords': [[631, 318],\n",
       "    [1171, 345],\n",
       "    [590, 1153],\n",
       "    [1130, 1180]],\n",
       "   'lectura': 'la Ciudad Autónoma de\\n\\na veintidós de febrero de dos\\n\\nargentina,\\n\\nescribano autorizante comparecen : Dora\\n\\nna, nacida e1 10 de marzo de 1966, casada\\n\\n\\'on Raul Alberto Lescano». comerciante,\\n\\nentidad 17.636.488, CO ER 27-17636488-\\n\\nnacida el 6 de marzo d\\n\\nANO, argentina,\\n\\nte, Documento Nacional de Identidad 41.048\\n\\n1026-9», ambas con «Aomicilio real en Pic\\n\\npersonas que identifico de acuerdo\\n\\nya relacionada que en copia autentica:\\n\\nINTERVIENEN por si y manifiestan ser soci\\n\\n-iedad denominada \"* CONFECOM s.R.b.”,. <'}},\n",
       " 'text': 'O DE sociedad DE RESPONSABILIDAD LIMITADA. “CONFECOM S. 12) ROA, argentina casada en primeras nupcias con Raul Alberto LESCANO, nacida el 10 de marzo de 1966, comerciante, titular del documento nacional de identidad numero 17.636.488, C.U.I.T. 27-17636488-8, y Yamila Belen LESCANO, argentina soltera, nacida el 6 de marzo de 1998, comerciante, titular del documento nacional de identidad numero 41.048.026, C.U.I.L. 27-41048026-9, ambos domiciliado en Pico 4785, ciudad autonoma de buenos Aires; resuelven dejar constituida una sociedad de responsabilidad limitada que se regira por la Ley numero 19.550/22.903 y el siguiente estatuto primera La sociedad se denomina \"CONFECOM S.R.L.\"” y tiene su domicilio legal en jurisdiccion de la ciudad autonoma de buenos Aires, pudiendo establecer agencias o sucursales en cualquier lugar del pais o del extranjero.- segunda Su duracion es de 99 años contados a partir de la inscripcion en el registro Publico de Comercio. - TERCERA La sociedad tiene por objeto realizar por cuenta propia o de terceros, en forma independiente o asociadas a terceros, dentro o fuera de la republica argentino a las siguientes actividades Compraventa, importacion, exportacion, comercializacion, representacion, fabricacion, refaccion, composicion, confeccion, deposito, transporte, despacho e industrializacion de todo tipo de ropa, indumentaria, calzado y sus derivados, botoneria, merceria, articulos textiles, materias primas, productos y subproductos destinados a la industria del vestido, y demas prendas y accesorios inherentes al ramo. Para el cumplimiento del objeto social, la sociedad tendra plena capacidad juridica para adquirir derechos y contraer obligaciones y ejercer actos que no sean prohibidos por las leyes o este estatuto.- CUARTA El capital social se fija en la suma de pesos cincuenta mil ($50.000) dividido en 5.000 cuotas de valor nominal $ 10 cada en un 23 por ciento y el resto se integrara dentro de los plazos legales.- QUINTA La administracion y representacion legal estara a cargo de uno o mas gerentes, socios o no, en forma individual e indistinta, por el plazo de duracion de la sociedad En tal caracter tienen todas las facultades para realizar los actos y contrato tendientes al cumplimiento del objeto de la sociedad inclusive los previstos en los articulos 375, del Codigo Civil y Comercial, y 9 del Decreto ley 5.965/63.- Los gerentes garantizaran su gestion mediante la constitucion de una garantia del tipo, modalidades y de los montos no inferiores a los establecidos en las resoluciones vigentes de la autoridad administrativa de control y las que se dicten con posterioridad.- SEXTA Las resoluciones sociales se adoptaran en la forma dispuesta en los arts. 159, primera parte parrafo segundo de la ley 19550.- Rigen las mayorias previstas en el art. 160 de la ley 19.550.- y cada cuota da derecho a un voto. Toda comunicacion o citacion a los socios se sujetara a lo dispuesto en el art. 159 ultimo parrafo de la ley citada.- SEPTIMA Las cuotas son transmisibles rigiendo las disposiciones del art. 153 de la ley 19.550, dejando constancia que para la venta a extraños a la sociedad se requerira la conformidad de la mayoria del capital, estableciendo a favor de los restantes socios un derecho de preferencia en la compra de las cuotas sociales que se vendan.- OCTAVA El ejercicio social cierra el 31 de Marzo de cada año, a cuya fecha se realizara el balance general que se pondra a disposiciones de los socios con no menos de 15 dias de anticipacion a su consideracion.- NOVENA De las utilidades liquidas y realizadas se destinaran a) El 5% al fondo de reserva legal, hasta alcanzar el 20% del capital social.- b)El importe que se establezca para retribucion de los gerentes y Cc) El remanente previa deduccion de cualquier otra reserva que los socios dispusieran constituir se distribuira entre los mismos en proporcion al capital integrado.- DECIMA Disuelta la sociedad por cualquiera de ¡as causales previstas en el articulo 94 de la ley 19.550.-, la liquidacion sera pracla ciudad autonoma de a veintidos de febrero de dos argentina escribano autorizante comparecen Dora na, nacida e1 10 de marzo de 1966, casada \\'on Raul Alberto Lescano». comerciante, entidad 17.636.488, CO ER 27-17636488- nacida el 6 de marzo d ANO, argentina te, documento nacional de identidad 41.0481026-9 », ambas con «Aomicilio real en Pic personas que identifico de acuerdo ya relacionada que en copia autentica INTERVIENEN por si y manifiestan ser soci -iedad denominada \"* CONFECOM s.R.b.”,. <',\n",
       " 'entities': {'search': ['firmantes_nombre',\n",
       "   'firmantes_dni',\n",
       "   'socios_nombre',\n",
       "   'razon_social',\n",
       "   'tipicidad',\n",
       "   'vigencia',\n",
       "   'capital',\n",
       "   'num_escritura',\n",
       "   'fecha_contrato',\n",
       "   'mandato_dir',\n",
       "   'tipo_rep_legal',\n",
       "   'facultades_firm',\n",
       "   'aporte_socios',\n",
       "   'fecha_cierre_ejercicio',\n",
       "   'objeto_social',\n",
       "   'cargo_firmantes',\n",
       "   'legal_domicilio',\n",
       "   'sede_domicilio',\n",
       "   'firma_domicilio',\n",
       "   'poderes_especiales',\n",
       "   'reservas_legales',\n",
       "   'garantias_directorio',\n",
       "   'aumentos_capital',\n",
       "   'firmante_domicilio',\n",
       "   'firmante_familiar',\n",
       "   'fecha_nacimiento',\n",
       "   'fecha_final_doc'],\n",
       "  'tags': [{'tag': 'firmante_familiar',\n",
       "    'start': 106,\n",
       "    'end': 126,\n",
       "    'text': 'Raul Alberto LESCANO',\n",
       "    'value': '',\n",
       "    'extra1': '',\n",
       "    'extra2': '',\n",
       "    'index': 0},\n",
       "   {'tag': 'fecha_nacimiento',\n",
       "    'start': 138,\n",
       "    'end': 157,\n",
       "    'text': '10 de marzo de 1966',\n",
       "    'value': '',\n",
       "    'extra1': '',\n",
       "    'extra2': '',\n",
       "    'index': 0},\n",
       "   {'tag': 'firmantes_dni',\n",
       "    'start': 223,\n",
       "    'end': 233,\n",
       "    'text': '17.636.488',\n",
       "    'value': '',\n",
       "    'extra1': '',\n",
       "    'extra2': '',\n",
       "    'index': 0},\n",
       "   {'tag': 'firmantes_nombre',\n",
       "    'start': 261,\n",
       "    'end': 281,\n",
       "    'text': 'Yamila Belen LESCANO',\n",
       "    'value': '',\n",
       "    'extra1': '',\n",
       "    'extra2': '',\n",
       "    'index': 0},\n",
       "   {'tag': 'fecha_nacimiento',\n",
       "    'start': 312,\n",
       "    'end': 330,\n",
       "    'text': '6 de marzo de 1998',\n",
       "    'value': '',\n",
       "    'extra1': '',\n",
       "    'extra2': '',\n",
       "    'index': 1},\n",
       "   {'tag': 'firmantes_dni',\n",
       "    'start': 396,\n",
       "    'end': 406,\n",
       "    'text': '41.048.026',\n",
       "    'value': '',\n",
       "    'extra1': '',\n",
       "    'extra2': '',\n",
       "    'index': 0},\n",
       "   {'tag': 'firmante_domicilio',\n",
       "    'start': 438,\n",
       "    'end': 496,\n",
       "    'text': 'domiciliado en Pico 4785, ciudad autonoma de buenos Aires;',\n",
       "    'value': '',\n",
       "    'extra1': '',\n",
       "    'extra2': '',\n",
       "    'index': 1},\n",
       "   {'tag': 'tipicidad',\n",
       "    'start': 529,\n",
       "    'end': 565,\n",
       "    'text': 'sociedad de responsabilidad limitada',\n",
       "    'value': '',\n",
       "    'extra1': '',\n",
       "    'extra2': '',\n",
       "    'index': 0},\n",
       "   {'tag': 'razon_social',\n",
       "    'start': 669,\n",
       "    'end': 685,\n",
       "    'text': 'CONFECOM S.R.L.\"',\n",
       "    'value': '',\n",
       "    'extra1': '',\n",
       "    'extra2': '',\n",
       "    'index': 0},\n",
       "   {'tag': 'legal_domicilio',\n",
       "    'start': 736,\n",
       "    'end': 767,\n",
       "    'text': 'ciudad autonoma de buenos Aires',\n",
       "    'value': '',\n",
       "    'extra1': '',\n",
       "    'extra2': '',\n",
       "    'index': 0},\n",
       "   {'tag': 'vigencia',\n",
       "    'start': 884,\n",
       "    'end': 886,\n",
       "    'text': '99',\n",
       "    'value': '',\n",
       "    'extra1': '',\n",
       "    'extra2': '',\n",
       "    'index': 0},\n",
       "   {'tag': 'objeto_social',\n",
       "    'start': 973,\n",
       "    'end': 1766,\n",
       "    'text': ' La sociedad tiene por objeto realizar por cuenta propia o de terceros, en forma independiente o asociadas a terceros, dentro o fuera de la republica argentino a las siguientes actividades Compraventa, importacion, exportacion, comercializacion, representacion, fabricacion, refaccion, composicion, confeccion, deposito, transporte, despacho e industrializacion de todo tipo de ropa, indumentaria, calzado y sus derivados, botoneria, merceria, articulos textiles, materias primas, productos y subproductos destinados a la industria del vestido, y demas prendas y accesorios inherentes al ramo. Para el cumplimiento del objeto social, la sociedad tendra plena capacidad juridica para adquirir derechos y contraer obligaciones y ejercer actos que no sean prohibidos por las leyes o este estatuto',\n",
       "    'value': '',\n",
       "    'extra1': '',\n",
       "    'extra2': '',\n",
       "    'index': 0},\n",
       "   {'tag': 'capital',\n",
       "    'start': 1822,\n",
       "    'end': 1845,\n",
       "    'text': 'cincuenta mil ($50.000)',\n",
       "    'value': '',\n",
       "    'extra1': '',\n",
       "    'extra2': '',\n",
       "    'index': 0},\n",
       "   {'tag': 'tipo_rep_legal',\n",
       "    'start': 2081,\n",
       "    'end': 2104,\n",
       "    'text': 'individual e indistinta',\n",
       "    'value': '',\n",
       "    'extra1': '',\n",
       "    'extra2': '',\n",
       "    'index': 0},\n",
       "   {'tag': 'mandato_dir',\n",
       "    'start': 2113,\n",
       "    'end': 2145,\n",
       "    'text': 'plazo de duracion de la sociedad',\n",
       "    'value': '',\n",
       "    'extra1': '',\n",
       "    'extra2': '',\n",
       "    'index': 0},\n",
       "   {'tag': 'facultades_firm',\n",
       "    'start': 2146,\n",
       "    'end': 2382,\n",
       "    'text': 'En tal caracter tienen todas las facultades para realizar los actos y contrato tendientes al cumplimiento del objeto de la sociedad inclusive los previstos en los articulos 375, del Codigo Civil y Comercial, y 9 del Decreto ley 5.965/63',\n",
       "    'value': '',\n",
       "    'extra1': '',\n",
       "    'extra2': '',\n",
       "    'index': 0},\n",
       "   {'tag': 'garantias_directorio',\n",
       "    'start': 2384,\n",
       "    'end': 2642,\n",
       "    'text': ' Los gerentes garantizaran su gestion mediante la constitucion de una garantia del tipo, modalidades y de los montos no inferiores a los establecidos en las resoluciones vigentes de la autoridad administrativa de control y las que se dicten con posterioridad',\n",
       "    'value': '',\n",
       "    'extra1': '',\n",
       "    'extra2': '',\n",
       "    'index': 0},\n",
       "   {'tag': 'fecha_cierre_ejercicio',\n",
       "    'start': 3367,\n",
       "    'end': 3378,\n",
       "    'text': '31 de Marzo',\n",
       "    'value': '',\n",
       "    'extra1': '',\n",
       "    'extra2': '',\n",
       "    'index': 0},\n",
       "   {'tag': 'reservas_legales',\n",
       "    'start': 3549,\n",
       "    'end': 3912,\n",
       "    'text': 'De las utilidades liquidas y realizadas se destinaran a) El 5% al fondo de reserva legal, hasta alcanzar el 20% del capital social.- b)El importe que se establezca para retribucion de los gerentes y Cc) El remanente previa deduccion de cualquier otra reserva que los socios dispusieran constituir se distribuira entre los mismos en proporcion al capital integrado',\n",
       "    'value': '',\n",
       "    'extra1': '',\n",
       "    'extra2': '',\n",
       "    'index': 0}]}}"
      ]
     },
     "execution_count": 3,
     "metadata": {},
     "output_type": "execute_result"
    }
   ],
   "source": [
    "tagged.document"
   ]
  },
  {
   "cell_type": "code",
   "execution_count": 4,
   "metadata": {},
   "outputs": [
    {
     "data": {
      "text/plain": [
       "[{'start': 106, 'end': 126, 'label': 'firmante_familiar'},\n",
       " {'start': 138, 'end': 157, 'label': 'fecha_nacimiento'},\n",
       " {'start': 223, 'end': 233, 'label': 'firmantes_dni'},\n",
       " {'start': 261, 'end': 281, 'label': 'firmantes_nombre'},\n",
       " {'start': 312, 'end': 330, 'label': 'fecha_nacimiento'},\n",
       " {'start': 396, 'end': 406, 'label': 'firmantes_dni'},\n",
       " {'start': 438, 'end': 496, 'label': 'firmante_domicilio'},\n",
       " {'start': 529, 'end': 565, 'label': 'tipicidad'},\n",
       " {'start': 669, 'end': 685, 'label': 'razon_social'},\n",
       " {'start': 736, 'end': 767, 'label': 'legal_domicilio'},\n",
       " {'start': 884, 'end': 886, 'label': 'vigencia'},\n",
       " {'start': 973, 'end': 1766, 'label': 'objeto_social'},\n",
       " {'start': 1822, 'end': 1845, 'label': 'capital'},\n",
       " {'start': 2081, 'end': 2104, 'label': 'tipo_rep_legal'},\n",
       " {'start': 2113, 'end': 2145, 'label': 'mandato_dir'},\n",
       " {'start': 2146, 'end': 2382, 'label': 'facultades_firm'},\n",
       " {'start': 2384, 'end': 2642, 'label': 'garantias_directorio'},\n",
       " {'start': 3367, 'end': 3378, 'label': 'fecha_cierre_ejercicio'},\n",
       " {'start': 3549, 'end': 3912, 'label': 'reservas_legales'}]"
      ]
     },
     "execution_count": 4,
     "metadata": {},
     "output_type": "execute_result"
    }
   ],
   "source": [
    "tagged.displacy_ents"
   ]
  },
  {
   "cell_type": "code",
   "execution_count": 5,
   "metadata": {},
   "outputs": [
    {
     "data": {
      "text/plain": [
       "'confecom_srl'"
      ]
     },
     "execution_count": 5,
     "metadata": {},
     "output_type": "execute_result"
    }
   ],
   "source": [
    "tagged.title"
   ]
  },
  {
   "cell_type": "markdown",
   "metadata": {},
   "source": [
    "## Raw Text\n",
    "With this attribute you can access the raw text."
   ]
  },
  {
   "cell_type": "code",
   "execution_count": 6,
   "metadata": {},
   "outputs": [
    {
     "data": {
      "text/plain": [
       "'O DE sociedad DE RESPONSABILIDAD LIMITADA. “CONFECOM S. 12) ROA, argentina casada en primeras nupcias con Raul Alberto LESCANO, nacida el 10 de marzo de 1966, comerciante, titular del documento nacional de identidad numero 17.636.488, C.U.I.T. 27-17636488-8, y Yamila Belen LESCANO, argentina soltera, nacida el 6 de marzo de 1998, comerciante, titular del documento nacional de identidad numero 41.048.026, C.U.I.L. 27-41048026-9, ambos domiciliado en Pico 4785, ciudad autonoma de buenos Aires; resuelven dejar constituida una sociedad de responsabilidad limitada que se regira por la Ley numero 19.550/22.903 y el siguiente estatuto primera La sociedad se denomina \"CONFECOM S.R.L.\"” y tiene su domicilio legal en jurisdiccion de la ciudad autonoma de buenos Aires, pudiendo establecer agencias o sucursales en cualquier lugar del pais o del extranjero.- segunda Su duracion es de 99 años contados a partir de la inscripcion en el registro Publico de Comercio. - TERCERA La sociedad tiene por objeto realizar por cuenta propia o de terceros, en forma independiente o asociadas a terceros, dentro o fuera de la republica argentino a las siguientes actividades Compraventa, importacion, exportacion, comercializacion, representacion, fabricacion, refaccion, composicion, confeccion, deposito, transporte, despacho e industrializacion de todo tipo de ropa, indumentaria, calzado y sus derivados, botoneria, merceria, articulos textiles, materias primas, productos y subproductos destinados a la industria del vestido, y demas prendas y accesorios inherentes al ramo. Para el cumplimiento del objeto social, la sociedad tendra plena capacidad juridica para adquirir derechos y contraer obligaciones y ejercer actos que no sean prohibidos por las leyes o este estatuto.- CUARTA El capital social se fija en la suma de pesos cincuenta mil ($50.000) dividido en 5.000 cuotas de valor nominal $ 10 cada en un 23 por ciento y el resto se integrara dentro de los plazos legales.- QUINTA La administracion y representacion legal estara a cargo de uno o mas gerentes, socios o no, en forma individual e indistinta, por el plazo de duracion de la sociedad En tal caracter tienen todas las facultades para realizar los actos y contrato tendientes al cumplimiento del objeto de la sociedad inclusive los previstos en los articulos 375, del Codigo Civil y Comercial, y 9 del Decreto ley 5.965/63.- Los gerentes garantizaran su gestion mediante la constitucion de una garantia del tipo, modalidades y de los montos no inferiores a los establecidos en las resoluciones vigentes de la autoridad administrativa de control y las que se dicten con posterioridad.- SEXTA Las resoluciones sociales se adoptaran en la forma dispuesta en los arts. 159, primera parte parrafo segundo de la ley 19550.- Rigen las mayorias previstas en el art. 160 de la ley 19.550.- y cada cuota da derecho a un voto. Toda comunicacion o citacion a los socios se sujetara a lo dispuesto en el art. 159 ultimo parrafo de la ley citada.- SEPTIMA Las cuotas son transmisibles rigiendo las disposiciones del art. 153 de la ley 19.550, dejando constancia que para la venta a extraños a la sociedad se requerira la conformidad de la mayoria del capital, estableciendo a favor de los restantes socios un derecho de preferencia en la compra de las cuotas sociales que se vendan.- OCTAVA El ejercicio social cierra el 31 de Marzo de cada año, a cuya fecha se realizara el balance general que se pondra a disposiciones de los socios con no menos de 15 dias de anticipacion a su consideracion.- NOVENA De las utilidades liquidas y realizadas se destinaran a) El 5% al fondo de reserva legal, hasta alcanzar el 20% del capital social.- b)El importe que se establezca para retribucion de los gerentes y Cc) El remanente previa deduccion de cualquier otra reserva que los socios dispusieran constituir se distribuira entre los mismos en proporcion al capital integrado.- DECIMA Disuelta la sociedad por cualquiera de ¡as causales previstas en el articulo 94 de la ley 19.550.-, la liquidacion sera pracla ciudad autonoma de a veintidos de febrero de dos argentina escribano autorizante comparecen Dora na, nacida e1 10 de marzo de 1966, casada \\'on Raul Alberto Lescano». comerciante, entidad 17.636.488, CO ER 27-17636488- nacida el 6 de marzo d ANO, argentina te, documento nacional de identidad 41.0481026-9 », ambas con «Aomicilio real en Pic personas que identifico de acuerdo ya relacionada que en copia autentica INTERVIENEN por si y manifiestan ser soci -iedad denominada \"* CONFECOM s.R.b.”,. <'"
      ]
     },
     "execution_count": 6,
     "metadata": {},
     "output_type": "execute_result"
    }
   ],
   "source": [
    "tagged.text"
   ]
  },
  {
   "cell_type": "markdown",
   "metadata": {},
   "source": [
    "## Render\n",
    "Will output the text of the document with all the entities highlighted."
   ]
  },
  {
   "cell_type": "code",
   "execution_count": 7,
   "metadata": {},
   "outputs": [
    {
     "data": {
      "text/html": [
       "<span class=\"tex2jax_ignore\"><h2 style=\"margin: 0\">confecom_srl</h2>\n",
       "\n",
       "<div class=\"entities\" style=\"line-height: 2.5; direction: ltr\">O DE sociedad DE RESPONSABILIDAD LIMITADA. “CONFECOM S. 12) ROA, argentina casada en primeras nupcias con \n",
       "<mark class=\"entity\" style=\"background: #ddd; padding: 0.45em 0.6em; margin: 0 0.25em; line-height: 1; border-radius: 0.35em;\">\n",
       "    Raul Alberto LESCANO\n",
       "    <span style=\"font-size: 0.8em; font-weight: bold; line-height: 1; border-radius: 0.35em; text-transform: uppercase; vertical-align: middle; margin-left: 0.5rem\">firmante_familiar</span>\n",
       "</mark>\n",
       ", nacida el \n",
       "<mark class=\"entity\" style=\"background: #ddd; padding: 0.45em 0.6em; margin: 0 0.25em; line-height: 1; border-radius: 0.35em;\">\n",
       "    10 de marzo de 1966\n",
       "    <span style=\"font-size: 0.8em; font-weight: bold; line-height: 1; border-radius: 0.35em; text-transform: uppercase; vertical-align: middle; margin-left: 0.5rem\">fecha_nacimiento</span>\n",
       "</mark>\n",
       ", comerciante, titular del documento nacional de identidad numero \n",
       "<mark class=\"entity\" style=\"background: #ddd; padding: 0.45em 0.6em; margin: 0 0.25em; line-height: 1; border-radius: 0.35em;\">\n",
       "    17.636.488\n",
       "    <span style=\"font-size: 0.8em; font-weight: bold; line-height: 1; border-radius: 0.35em; text-transform: uppercase; vertical-align: middle; margin-left: 0.5rem\">firmantes_dni</span>\n",
       "</mark>\n",
       ", C.U.I.T. 27-17636488-8, y \n",
       "<mark class=\"entity\" style=\"background: #ddd; padding: 0.45em 0.6em; margin: 0 0.25em; line-height: 1; border-radius: 0.35em;\">\n",
       "    Yamila Belen LESCANO\n",
       "    <span style=\"font-size: 0.8em; font-weight: bold; line-height: 1; border-radius: 0.35em; text-transform: uppercase; vertical-align: middle; margin-left: 0.5rem\">firmantes_nombre</span>\n",
       "</mark>\n",
       ", argentina soltera, nacida el \n",
       "<mark class=\"entity\" style=\"background: #ddd; padding: 0.45em 0.6em; margin: 0 0.25em; line-height: 1; border-radius: 0.35em;\">\n",
       "    6 de marzo de 1998\n",
       "    <span style=\"font-size: 0.8em; font-weight: bold; line-height: 1; border-radius: 0.35em; text-transform: uppercase; vertical-align: middle; margin-left: 0.5rem\">fecha_nacimiento</span>\n",
       "</mark>\n",
       ", comerciante, titular del documento nacional de identidad numero \n",
       "<mark class=\"entity\" style=\"background: #ddd; padding: 0.45em 0.6em; margin: 0 0.25em; line-height: 1; border-radius: 0.35em;\">\n",
       "    41.048.026\n",
       "    <span style=\"font-size: 0.8em; font-weight: bold; line-height: 1; border-radius: 0.35em; text-transform: uppercase; vertical-align: middle; margin-left: 0.5rem\">firmantes_dni</span>\n",
       "</mark>\n",
       ", C.U.I.L. 27-41048026-9, ambos \n",
       "<mark class=\"entity\" style=\"background: #ddd; padding: 0.45em 0.6em; margin: 0 0.25em; line-height: 1; border-radius: 0.35em;\">\n",
       "    domiciliado en Pico 4785, ciudad autonoma de buenos Aires;\n",
       "    <span style=\"font-size: 0.8em; font-weight: bold; line-height: 1; border-radius: 0.35em; text-transform: uppercase; vertical-align: middle; margin-left: 0.5rem\">firmante_domicilio</span>\n",
       "</mark>\n",
       " resuelven dejar constituida una \n",
       "<mark class=\"entity\" style=\"background: #ddd; padding: 0.45em 0.6em; margin: 0 0.25em; line-height: 1; border-radius: 0.35em;\">\n",
       "    sociedad de responsabilidad limitada\n",
       "    <span style=\"font-size: 0.8em; font-weight: bold; line-height: 1; border-radius: 0.35em; text-transform: uppercase; vertical-align: middle; margin-left: 0.5rem\">tipicidad</span>\n",
       "</mark>\n",
       " que se regira por la Ley numero 19.550/22.903 y el siguiente estatuto primera La sociedad se denomina &quot;\n",
       "<mark class=\"entity\" style=\"background: #ddd; padding: 0.45em 0.6em; margin: 0 0.25em; line-height: 1; border-radius: 0.35em;\">\n",
       "    CONFECOM S.R.L.&quot;\n",
       "    <span style=\"font-size: 0.8em; font-weight: bold; line-height: 1; border-radius: 0.35em; text-transform: uppercase; vertical-align: middle; margin-left: 0.5rem\">razon_social</span>\n",
       "</mark>\n",
       "” y tiene su domicilio legal en jurisdiccion de la \n",
       "<mark class=\"entity\" style=\"background: #ddd; padding: 0.45em 0.6em; margin: 0 0.25em; line-height: 1; border-radius: 0.35em;\">\n",
       "    ciudad autonoma de buenos Aires\n",
       "    <span style=\"font-size: 0.8em; font-weight: bold; line-height: 1; border-radius: 0.35em; text-transform: uppercase; vertical-align: middle; margin-left: 0.5rem\">legal_domicilio</span>\n",
       "</mark>\n",
       ", pudiendo establecer agencias o sucursales en cualquier lugar del pais o del extranjero.- segunda Su duracion es de \n",
       "<mark class=\"entity\" style=\"background: #ddd; padding: 0.45em 0.6em; margin: 0 0.25em; line-height: 1; border-radius: 0.35em;\">\n",
       "    99\n",
       "    <span style=\"font-size: 0.8em; font-weight: bold; line-height: 1; border-radius: 0.35em; text-transform: uppercase; vertical-align: middle; margin-left: 0.5rem\">vigencia</span>\n",
       "</mark>\n",
       " años contados a partir de la inscripcion en el registro Publico de Comercio. - TERCERA\n",
       "<mark class=\"entity\" style=\"background: #ddd; padding: 0.45em 0.6em; margin: 0 0.25em; line-height: 1; border-radius: 0.35em;\">\n",
       "     La sociedad tiene por objeto realizar por cuenta propia o de terceros, en forma independiente o asociadas a terceros, dentro o fuera de la republica argentino a las siguientes actividades Compraventa, importacion, exportacion, comercializacion, representacion, fabricacion, refaccion, composicion, confeccion, deposito, transporte, despacho e industrializacion de todo tipo de ropa, indumentaria, calzado y sus derivados, botoneria, merceria, articulos textiles, materias primas, productos y subproductos destinados a la industria del vestido, y demas prendas y accesorios inherentes al ramo. Para el cumplimiento del objeto social, la sociedad tendra plena capacidad juridica para adquirir derechos y contraer obligaciones y ejercer actos que no sean prohibidos por las leyes o este estatuto\n",
       "    <span style=\"font-size: 0.8em; font-weight: bold; line-height: 1; border-radius: 0.35em; text-transform: uppercase; vertical-align: middle; margin-left: 0.5rem\">objeto_social</span>\n",
       "</mark>\n",
       ".- CUARTA El capital social se fija en la suma de pesos \n",
       "<mark class=\"entity\" style=\"background: #ddd; padding: 0.45em 0.6em; margin: 0 0.25em; line-height: 1; border-radius: 0.35em;\">\n",
       "    cincuenta mil ($50.000)\n",
       "    <span style=\"font-size: 0.8em; font-weight: bold; line-height: 1; border-radius: 0.35em; text-transform: uppercase; vertical-align: middle; margin-left: 0.5rem\">capital</span>\n",
       "</mark>\n",
       " dividido en 5.000 cuotas de valor nominal $ 10 cada en un 23 por ciento y el resto se integrara dentro de los plazos legales.- QUINTA La administracion y representacion legal estara a cargo de uno o mas gerentes, socios o no, en forma \n",
       "<mark class=\"entity\" style=\"background: #ddd; padding: 0.45em 0.6em; margin: 0 0.25em; line-height: 1; border-radius: 0.35em;\">\n",
       "    individual e indistinta\n",
       "    <span style=\"font-size: 0.8em; font-weight: bold; line-height: 1; border-radius: 0.35em; text-transform: uppercase; vertical-align: middle; margin-left: 0.5rem\">tipo_rep_legal</span>\n",
       "</mark>\n",
       ", por el \n",
       "<mark class=\"entity\" style=\"background: #ddd; padding: 0.45em 0.6em; margin: 0 0.25em; line-height: 1; border-radius: 0.35em;\">\n",
       "    plazo de duracion de la sociedad\n",
       "    <span style=\"font-size: 0.8em; font-weight: bold; line-height: 1; border-radius: 0.35em; text-transform: uppercase; vertical-align: middle; margin-left: 0.5rem\">mandato_dir</span>\n",
       "</mark>\n",
       " \n",
       "<mark class=\"entity\" style=\"background: #ddd; padding: 0.45em 0.6em; margin: 0 0.25em; line-height: 1; border-radius: 0.35em;\">\n",
       "    En tal caracter tienen todas las facultades para realizar los actos y contrato tendientes al cumplimiento del objeto de la sociedad inclusive los previstos en los articulos 375, del Codigo Civil y Comercial, y 9 del Decreto ley 5.965/63\n",
       "    <span style=\"font-size: 0.8em; font-weight: bold; line-height: 1; border-radius: 0.35em; text-transform: uppercase; vertical-align: middle; margin-left: 0.5rem\">facultades_firm</span>\n",
       "</mark>\n",
       ".-\n",
       "<mark class=\"entity\" style=\"background: #ddd; padding: 0.45em 0.6em; margin: 0 0.25em; line-height: 1; border-radius: 0.35em;\">\n",
       "     Los gerentes garantizaran su gestion mediante la constitucion de una garantia del tipo, modalidades y de los montos no inferiores a los establecidos en las resoluciones vigentes de la autoridad administrativa de control y las que se dicten con posterioridad\n",
       "    <span style=\"font-size: 0.8em; font-weight: bold; line-height: 1; border-radius: 0.35em; text-transform: uppercase; vertical-align: middle; margin-left: 0.5rem\">garantias_directorio</span>\n",
       "</mark>\n",
       ".- SEXTA Las resoluciones sociales se adoptaran en la forma dispuesta en los arts. 159, primera parte parrafo segundo de la ley 19550.- Rigen las mayorias previstas en el art. 160 de la ley 19.550.- y cada cuota da derecho a un voto. Toda comunicacion o citacion a los socios se sujetara a lo dispuesto en el art. 159 ultimo parrafo de la ley citada.- SEPTIMA Las cuotas son transmisibles rigiendo las disposiciones del art. 153 de la ley 19.550, dejando constancia que para la venta a extraños a la sociedad se requerira la conformidad de la mayoria del capital, estableciendo a favor de los restantes socios un derecho de preferencia en la compra de las cuotas sociales que se vendan.- OCTAVA El ejercicio social cierra el \n",
       "<mark class=\"entity\" style=\"background: #ddd; padding: 0.45em 0.6em; margin: 0 0.25em; line-height: 1; border-radius: 0.35em;\">\n",
       "    31 de Marzo\n",
       "    <span style=\"font-size: 0.8em; font-weight: bold; line-height: 1; border-radius: 0.35em; text-transform: uppercase; vertical-align: middle; margin-left: 0.5rem\">fecha_cierre_ejercicio</span>\n",
       "</mark>\n",
       " de cada año, a cuya fecha se realizara el balance general que se pondra a disposiciones de los socios con no menos de 15 dias de anticipacion a su consideracion.- NOVENA \n",
       "<mark class=\"entity\" style=\"background: #ddd; padding: 0.45em 0.6em; margin: 0 0.25em; line-height: 1; border-radius: 0.35em;\">\n",
       "    De las utilidades liquidas y realizadas se destinaran a) El 5% al fondo de reserva legal, hasta alcanzar el 20% del capital social.- b)El importe que se establezca para retribucion de los gerentes y Cc) El remanente previa deduccion de cualquier otra reserva que los socios dispusieran constituir se distribuira entre los mismos en proporcion al capital integrado\n",
       "    <span style=\"font-size: 0.8em; font-weight: bold; line-height: 1; border-radius: 0.35em; text-transform: uppercase; vertical-align: middle; margin-left: 0.5rem\">reservas_legales</span>\n",
       "</mark>\n",
       ".- DECIMA Disuelta la sociedad por cualquiera de ¡as causales previstas en el articulo 94 de la ley 19.550.-, la liquidacion sera pracla ciudad autonoma de a veintidos de febrero de dos argentina escribano autorizante comparecen Dora na, nacida e1 10 de marzo de 1966, casada 'on Raul Alberto Lescano». comerciante, entidad 17.636.488, CO ER 27-17636488- nacida el 6 de marzo d ANO, argentina te, documento nacional de identidad 41.0481026-9 », ambas con «Aomicilio real en Pic personas que identifico de acuerdo ya relacionada que en copia autentica INTERVIENEN por si y manifiestan ser soci -iedad denominada &quot;* CONFECOM s.R.b.”,. &lt;</div></span>"
      ],
      "text/plain": [
       "<IPython.core.display.HTML object>"
      ]
     },
     "metadata": {},
     "output_type": "display_data"
    }
   ],
   "source": [
    "tagged.render()"
   ]
  },
  {
   "cell_type": "markdown",
   "metadata": {},
   "source": [
    "## Save to disk\n",
    "This method will save an html file with the entities highlighted in the text."
   ]
  },
  {
   "cell_type": "code",
   "execution_count": 8,
   "metadata": {},
   "outputs": [],
   "source": [
    "tagged.save_render('path/to/file')"
   ]
  },
  {
   "cell_type": "markdown",
   "metadata": {},
   "source": [
    "## Functions"
   ]
  },
  {
   "cell_type": "markdown",
   "metadata": {},
   "source": [
    "### `random_date_generator`\n",
    "```python\n",
    "Creates a random date in the time span provided. Returns a datetieme.date object.\n",
    "\n",
    "Parameters\n",
    "----------\n",
    "start_year : int, optional\n",
    "    The initial year of the target time span, by default 1900.\n",
    "start_month : int, optional\n",
    "    The initial month of the target time span, by default 1.\n",
    "start_day : int, optional\n",
    "    The initial day of the target time span, by default 1.\n",
    "end_year : int, optional\n",
    "    The final year of the target time span, by default 2050.\n",
    "end_month : int, optional\n",
    "    The final month of the target time span, by default 12.\n",
    "end_day : int, optional\n",
    "    The final day of the target time span, by default 31.\n",
    "mapper : dict, optional\n",
    "    A dictionary-like object with same previous arguments as keys and integer as values, by default None.\n",
    "seed : int, optional\n",
    "    The random seed if you're interested in replicating the results, by default None.\n",
    "\n",
    "Returns\n",
    "-------\n",
    "datetime.date\n",
    "    A random datetime.date object contained in the time span provided.\n",
    "```"
   ]
  },
  {
   "cell_type": "code",
   "execution_count": 9,
   "metadata": {},
   "outputs": [],
   "source": [
    "from nlptools.data_augmentation import random_date_generator"
   ]
  },
  {
   "cell_type": "code",
   "execution_count": 10,
   "metadata": {},
   "outputs": [
    {
     "data": {
      "text/plain": [
       "datetime.date(1942, 3, 27)"
      ]
     },
     "execution_count": 10,
     "metadata": {},
     "output_type": "execute_result"
    }
   ],
   "source": [
    "random_date_generator()"
   ]
  },
  {
   "cell_type": "code",
   "execution_count": 11,
   "metadata": {},
   "outputs": [],
   "source": [
    "example = {'start_year': 2005,\n",
    "            'start_month': 5,\n",
    "          'start_day': 10,\n",
    "          'end_year': 2023,\n",
    "          'end_month': 10,\n",
    "          'end_day': 23}"
   ]
  },
  {
   "cell_type": "code",
   "execution_count": 12,
   "metadata": {},
   "outputs": [
    {
     "data": {
      "text/plain": [
       "datetime.date(2008, 11, 26)"
      ]
     },
     "execution_count": 12,
     "metadata": {},
     "output_type": "execute_result"
    }
   ],
   "source": [
    "random_date_generator(mapper=example)"
   ]
  },
  {
   "cell_type": "code",
   "execution_count": 13,
   "metadata": {},
   "outputs": [],
   "source": [
    "date = random_date_generator(seed=5)"
   ]
  },
  {
   "cell_type": "code",
   "execution_count": 14,
   "metadata": {},
   "outputs": [],
   "source": [
    "from nlptools.data_augmentation import date_formatter"
   ]
  },
  {
   "cell_type": "markdown",
   "metadata": {},
   "source": [
    "-------\n",
    "### `date_formatter`\n",
    "```python\n",
    "Converts a datetime.date object into a formatted string.\n",
    "\n",
    "Parameters\n",
    "----------\n",
    "date : datetime.date\n",
    "    The date object intended to convert to string.\n",
    "formality : str, optional\n",
    "    Different types of formatting, by default 'random'.\n",
    "include_year : bool, optional\n",
    "    Option to keep or leave the year, by default True.\n",
    "\n",
    "Returns\n",
    "-------\n",
    "str\n",
    "    A string containing the desired format\n",
    "\n",
    "Raises\n",
    "------\n",
    "KeyError\n",
    "    If the formality provided is not among the accepted, will raise KeyError.\n",
    "```"
   ]
  },
  {
   "cell_type": "code",
   "execution_count": 15,
   "metadata": {},
   "outputs": [
    {
     "data": {
      "text/plain": [
       "'08 de Octubre de 2011'"
      ]
     },
     "execution_count": 15,
     "metadata": {},
     "output_type": "execute_result"
    }
   ],
   "source": [
    "date_formatter(date)"
   ]
  },
  {
   "cell_type": "code",
   "execution_count": 16,
   "metadata": {},
   "outputs": [
    {
     "data": {
      "text/plain": [
       "'ocho del mes de Octubre de dos mil once'"
      ]
     },
     "execution_count": 16,
     "metadata": {},
     "output_type": "execute_result"
    }
   ],
   "source": [
    "date_formatter(date, include_year=True)"
   ]
  },
  {
   "cell_type": "code",
   "execution_count": 17,
   "metadata": {},
   "outputs": [
    {
     "data": {
      "text/plain": [
       "'08 de Octubre'"
      ]
     },
     "execution_count": 17,
     "metadata": {},
     "output_type": "execute_result"
    }
   ],
   "source": [
    "date_formatter(date, include_year=False)"
   ]
  },
  {
   "cell_type": "markdown",
   "metadata": {},
   "source": [
    "-------\n",
    "### `random_name_generator`\n",
    "```python\n",
    "random_name_generator(n: int, name_type: str = 'any', seed: int = None) -> list\n",
    "\n",
    "Creates a list of len(n) names for persons, companies or both.\n",
    "\n",
    "Parameters\n",
    "----------\n",
    "n : int\n",
    "    The number of names intended to get. Maximum supported 20.000.\n",
    "name_type : str, optional\n",
    "    The type of name wanted, can be 'company', 'person' or 'any', by default 'any'.\n",
    "\n",
    "Returns\n",
    "-------\n",
    "list\n",
    "    A list of len(n) with the names.\n",
    "\n",
    "Raises\n",
    "------\n",
    "KeyError\n",
    "    If type of name provided does not match any of the one supported.\n",
    "```"
   ]
  },
  {
   "cell_type": "code",
   "execution_count": 18,
   "metadata": {},
   "outputs": [],
   "source": [
    "from nlptools.data_augmentation import random_name_generator"
   ]
  },
  {
   "cell_type": "code",
   "execution_count": 19,
   "metadata": {},
   "outputs": [
    {
     "data": {
      "text/plain": [
       "['VACA CUA S A', 'SUPER UP S.A.S.', 'Kraupl Walter Denis']"
      ]
     },
     "execution_count": 19,
     "metadata": {},
     "output_type": "execute_result"
    }
   ],
   "source": [
    "random_name_generator(n=3)"
   ]
  },
  {
   "cell_type": "markdown",
   "metadata": {},
   "source": [
    "------\n",
    "### `mandato_generator`\n",
    "```python\n",
    "mandato_generator(seed: int = None) -> str\n",
    "\n",
    "Creates a string typically used for mandato lenght of companies.\n",
    "\n",
    "Parameters\n",
    "----------\n",
    "seed : int, optional\n",
    "    If specified, will return the same value always, by default None.\n",
    "\n",
    "Returns\n",
    "-------\n",
    "str\n",
    "    A string with a phrase typically used for mandato length.\n",
    "```"
   ]
  },
  {
   "cell_type": "code",
   "execution_count": 20,
   "metadata": {},
   "outputs": [],
   "source": [
    "from nlptools.data_augmentation import mandato_generator"
   ]
  },
  {
   "cell_type": "code",
   "execution_count": 21,
   "metadata": {},
   "outputs": [
    {
     "data": {
      "text/plain": [
       "'9 (nueve) años'"
      ]
     },
     "execution_count": 21,
     "metadata": {},
     "output_type": "execute_result"
    }
   ],
   "source": [
    "mandato_generator()"
   ]
  },
  {
   "cell_type": "markdown",
   "metadata": {},
   "source": [
    "------\n",
    "### `vigencia_generator`\n",
    "```python\n",
    "vigencia_generator(seed: int = None) -> str\n",
    "\n",
    "\"Creates a string typically used for the duration of the company.\n",
    "\n",
    "Parameters\n",
    "----------\n",
    "seed : int, optional\n",
    "    If specified, will return the same value always, by default None.\n",
    "\n",
    "Returns\n",
    "-------\n",
    "str\n",
    "    A string with a phrase or number used to determine the duration of the company.\n",
    "```"
   ]
  },
  {
   "cell_type": "code",
   "execution_count": 22,
   "metadata": {},
   "outputs": [],
   "source": [
    "from nlptools.data_augmentation import vigencia_generator"
   ]
  },
  {
   "cell_type": "code",
   "execution_count": 23,
   "metadata": {},
   "outputs": [
    {
     "data": {
      "text/plain": [
       "'cien'"
      ]
     },
     "execution_count": 23,
     "metadata": {},
     "output_type": "execute_result"
    }
   ],
   "source": [
    "vigencia_generator()"
   ]
  },
  {
   "cell_type": "markdown",
   "metadata": {},
   "source": [
    "------\n",
    "### `tipicidad_generator`\n",
    "```python\n",
    "tipicidad_generator(seed: int = None) -> str\n",
    "\n",
    "Creates a that determines the type of company.\n",
    "\n",
    "Parameters\n",
    "----------\n",
    "seed : int, optional\n",
    "    If specified, will return the same value always, by default None.\n",
    "\n",
    "Returns\n",
    "-------\n",
    "str\n",
    "    A string with a phrase containing the type of company.\n",
    "```"
   ]
  },
  {
   "cell_type": "code",
   "execution_count": 24,
   "metadata": {},
   "outputs": [],
   "source": [
    "from nlptools.data_augmentation import tipicidad_generator"
   ]
  },
  {
   "cell_type": "code",
   "execution_count": 25,
   "metadata": {},
   "outputs": [
    {
     "data": {
      "text/plain": [
       "'sociedad de responsabilidad limitada'"
      ]
     },
     "execution_count": 25,
     "metadata": {},
     "output_type": "execute_result"
    }
   ],
   "source": [
    "tipicidad_generator()"
   ]
  },
  {
   "cell_type": "markdown",
   "metadata": {},
   "source": [
    "-------\n",
    "\n",
    "### `id_generator`\n",
    "```python\n",
    "id_generator(cuit=False, seed: int = None) -> str\n",
    "\n",
    "Generates an argentine DNI or CUIT in string format.\n",
    "\n",
    "Parameters\n",
    "----------\n",
    "cuit : bool, optional\n",
    "    If True, will return a CUIT, otherwise a DNI, by default False.\n",
    "seed : int, optional\n",
    "    If specified, will return the same value always, by default None.\n",
    "\n",
    "Returns\n",
    "-------\n",
    "str\n",
    "    A string containing the typical format of a DNI or a CUIT.\n",
    "```"
   ]
  },
  {
   "cell_type": "code",
   "execution_count": 26,
   "metadata": {},
   "outputs": [],
   "source": [
    "from nlptools.data_augmentation import id_generator"
   ]
  },
  {
   "cell_type": "code",
   "execution_count": 27,
   "metadata": {},
   "outputs": [
    {
     "data": {
      "text/plain": [
       "'14.380.480'"
      ]
     },
     "execution_count": 27,
     "metadata": {},
     "output_type": "execute_result"
    }
   ],
   "source": [
    "id_generator()"
   ]
  },
  {
   "cell_type": "markdown",
   "metadata": {},
   "source": [
    "------\n",
    "### `capital_generator`\n",
    "```python\n",
    "Signature: capital_generator(style: str = 'any', seed: int = None) -> str\n",
    "Docstring:\n",
    "Creates a random string to define the funding of a company.\n",
    "\n",
    "Parameters\n",
    "----------\n",
    "style : str, optional\n",
    "    If set to 'written' will return the words of the amount, \n",
    "    if set to 'number', will return just the amount,\n",
    "    if set to 'mixed', will return a mixture of the previous, by default 'any'.\n",
    "seed : int, optional\n",
    "    If specified, will return the same value always, by default None.\n",
    "\n",
    "Returns\n",
    "-------\n",
    "str\n",
    "    A string containing a phrase, number ot both containing a money amount.\n",
    "\n",
    "Raises\n",
    "------\n",
    "KeyError\n",
    "    If the style specified doesn't exist.\n",
    "```"
   ]
  },
  {
   "cell_type": "code",
   "execution_count": 28,
   "metadata": {},
   "outputs": [],
   "source": [
    "from nlptools.data_augmentation import capital_generator"
   ]
  },
  {
   "cell_type": "code",
   "execution_count": 29,
   "metadata": {},
   "outputs": [
    {
     "data": {
      "text/plain": [
       "'cuatrocientos ochenta y cinco mil ($ 485.000)'"
      ]
     },
     "execution_count": 29,
     "metadata": {},
     "output_type": "execute_result"
    }
   ],
   "source": [
    "capital_generator()"
   ]
  },
  {
   "cell_type": "markdown",
   "metadata": {},
   "source": [
    "----------\n",
    "### `aporte_generator`\n",
    "```python\n",
    "aporte_generator(share_type: str = 'any', seed: int = None) -> str\n",
    "\n",
    "Creates a random string containing the amount of shares\n",
    "    that a shareholder is giving to the company.\n",
    "\n",
    "Parameters\n",
    "----------\n",
    "share_type : str, optional [currently not in use]\n",
    "    If you want cuotas or acciones in the output, by default 'any'.\n",
    "seed : int, optional\n",
    "    If specified, will return the same value always, by default None.\n",
    "\n",
    "Returns\n",
    "-------\n",
    "str\n",
    "    A string containing the number that a shareholder is giving\n",
    "    to be part of the company.\n",
    "```"
   ]
  },
  {
   "cell_type": "code",
   "execution_count": 30,
   "metadata": {},
   "outputs": [],
   "source": [
    "from nlptools.data_augmentation import aporte_generator"
   ]
  },
  {
   "cell_type": "code",
   "execution_count": 31,
   "metadata": {},
   "outputs": [
    {
     "data": {
      "text/plain": [
       "'15.000'"
      ]
     },
     "execution_count": 31,
     "metadata": {},
     "output_type": "execute_result"
    }
   ],
   "source": [
    "aporte_generator()"
   ]
  },
  {
   "cell_type": "markdown",
   "metadata": {},
   "source": [
    "-------\n",
    "### `address_generator`\n",
    "```python\n",
    "address_generator(n: int, legal: bool = False, seed: int = None) -> List[str]\n",
    "\n",
    "    Creates a list of strings with fictionary addresses, \n",
    "    using real streets, districts and provinces.\n",
    "\n",
    "Parameters\n",
    "----------\n",
    "n : int\n",
    "    The lenght of the output list.\n",
    "legal : bool, optional\n",
    "    If set to True, will not return a street, number\n",
    "    or apartment number, by default False.\n",
    "seed : int, optional\n",
    "    If specified, will return the same value always, by default None.\n",
    "\n",
    "Returns\n",
    "-------\n",
    "List[str]\n",
    "    A list containing n amounts of strings that simulate real addresses.\n",
    "```"
   ]
  },
  {
   "cell_type": "code",
   "execution_count": 32,
   "metadata": {},
   "outputs": [],
   "source": [
    "from nlptools.data_augmentation import address_generator"
   ]
  },
  {
   "cell_type": "code",
   "execution_count": 33,
   "metadata": {},
   "outputs": [
    {
     "data": {
      "text/plain": [
       "'355.000'"
      ]
     },
     "execution_count": 33,
     "metadata": {},
     "output_type": "execute_result"
    }
   ],
   "source": [
    "aporte_generator()"
   ]
  },
  {
   "cell_type": "code",
   "execution_count": 34,
   "metadata": {},
   "outputs": [
    {
     "name": "stdout",
     "output_type": "stream",
     "text": [
      "3\n"
     ]
    },
    {
     "data": {
      "text/plain": [
       "['Del Pacifico 1136, de esta ciudad']"
      ]
     },
     "execution_count": 34,
     "metadata": {},
     "output_type": "execute_result"
    }
   ],
   "source": [
    "address_generator(n=1)"
   ]
  }
 ],
 "metadata": {
  "kernelspec": {
   "display_name": "Python [conda env:.conda-py38] *",
   "language": "python",
   "name": "conda-env-.conda-py38-py"
  },
  "language_info": {
   "codemirror_mode": {
    "name": "ipython",
    "version": 3
   },
   "file_extension": ".py",
   "mimetype": "text/x-python",
   "name": "python",
   "nbconvert_exporter": "python",
   "pygments_lexer": "ipython3",
   "version": "3.8.5"
  }
 },
 "nbformat": 4,
 "nbformat_minor": 4
}
