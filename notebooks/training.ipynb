{
 "cells": [
  {
   "cell_type": "markdown",
   "metadata": {},
   "source": [
    "# Training Module"
   ]
  },
  {
   "cell_type": "markdown",
   "metadata": {},
   "source": [
    "This module contains everything you need to train a spaCy NER model."
   ]
  },
  {
   "cell_type": "markdown",
   "metadata": {},
   "source": [
    "## Functions"
   ]
  },
  {
   "cell_type": "markdown",
   "metadata": {},
   "source": [
    "### train_new_model"
   ]
  },
  {
   "cell_type": "markdown",
   "metadata": {},
   "source": [
    "Build a new blank spacy model and trains it with the entities provided <br>\n",
    "\n",
    "Parameters: <br>\n",
    "\n",
    "- __train_data:__ `list` <br>\n",
    "The data required to train the model <br>\n",
    "\n",
    "- __language:__ `str, optional` <br>\n",
    "The language of the model you want to train, by default 'es' <br>\n",
    "\n",
    "- __epochs:__ `int, optional` <br>\n",
    "The number of times you want to show the data to the model. If set to None, will iterate 300 times or will cut when it finds the best possible model, given the hyper-parameters. By default None. <br>\n",
    "\n",
    "- __target_gradient:__ `int, optional` <br>\n",
    "The expected level of the gradient to finish it's training , by default None. <br>\n",
    "\n",
    "- __dropout_rate:__ `float, optional` <br>\n",
    "How much of the data learned you want to force to throw each iteration to avoid overffiting, by default 0.1 <br>\n",
    "\n",
    "- __success_threshold:__ `float, optional` <br>\n",
    "A percentage of expected minimization of the gradient, by default 0.9 <br>\n",
    "\n",
    "- __loss_tolerance:__ `[type], optional` <br>\n",
    "A threshold to avoid catastrophic forgetting, by default None. <br>\n",
    "\n",
    "- __target_device:__ `str, optional` <br>\n",
    "Whether to train on cpu or gpu, if avaliable, by default `cpu` <br>\n",
    "\n",
    "\n",
    "Returns: <br>\n",
    "\n",
    "- __`spacy.lang.es.Spanish`__ <br>\n",
    "A trained model capable to recognize the target entities to a certain extent\n",
    "\n",
    "\n",
    "\n"
   ]
  },
  {
   "cell_type": "markdown",
   "metadata": {},
   "source": [
    "#### Examples"
   ]
  },
  {
   "cell_type": "code",
   "execution_count": 18,
   "metadata": {},
   "outputs": [],
   "source": [
    "# Import \n",
    "from nlptools import training as train\n",
    "from nlptools.data_augmentation import TaggedDoc"
   ]
  },
  {
   "cell_type": "markdown",
   "metadata": {},
   "source": [
    "Loading the training data from a pickle file"
   ]
  },
  {
   "cell_type": "code",
   "execution_count": 2,
   "metadata": {},
   "outputs": [],
   "source": [
    "import pickle\n",
    "with open('../src/nlptools/data/estatutos/tagged/spacy_dataset_2020-5-6.pkl', 'rb') as f:\n",
    "    data = pickle.load(f)"
   ]
  },
  {
   "cell_type": "code",
   "execution_count": 3,
   "metadata": {},
   "outputs": [],
   "source": [
    "docs = [TaggedDoc(doc)._get_spacy_entities() for doc in data.values()]"
   ]
  },
  {
   "cell_type": "code",
   "execution_count": 19,
   "metadata": {},
   "outputs": [
    {
     "data": {
      "application/vnd.jupyter.widget-view+json": {
       "model_id": "c9e6edf420e64385a56b078528da2d80",
       "version_major": 2,
       "version_minor": 0
      },
      "text/plain": [
       "HBox(children=(FloatProgress(value=0.0, max=300.0), HTML(value='')))"
      ]
     },
     "metadata": {},
     "output_type": "display_data"
    },
    {
     "name": "stdout",
     "output_type": "stream",
     "text": [
      "Total time 0:10:50.768780\n"
     ]
    }
   ],
   "source": [
    "model = train.train_new_model(train_data=docs,language='es',epochs=300,target_gradient=None,dropout_rate=0.1,\n",
    "                              success_threshold=0.9,loss_tolerance=None,target_device='gpu')"
   ]
  },
  {
   "cell_type": "markdown",
   "metadata": {},
   "source": [
    "Now that we already trained the model it's time to make some predictions <br>\n",
    "\n",
    "First we need data, so we picked the first document from our train dataset <br>\n",
    "\n",
    "__Disclaimer__:  _We are aware that this is considered __overfitting__ but this is only for educational purposes_"
   ]
  },
  {
   "cell_type": "code",
   "execution_count": 20,
   "metadata": {},
   "outputs": [],
   "source": [
    "doc_0 = model(docs[0][0])"
   ]
  },
  {
   "cell_type": "markdown",
   "metadata": {},
   "source": [
    "Do you believe in magic? Prepare for some real magic tricks..."
   ]
  },
  {
   "cell_type": "code",
   "execution_count": 21,
   "metadata": {},
   "outputs": [
    {
     "data": {
      "text/html": [
       "<span class=\"tex2jax_ignore\"><div class=\"entities\" style=\"line-height: 2.5; direction: ltr\">O DE sociedad DE RESPONSABILIDAD LIMITADA. “CONFECOM S. 12) ROA, argentina casada en primeras nupcias con \n",
       "<mark class=\"entity\" style=\"background: #ddd; padding: 0.45em 0.6em; margin: 0 0.25em; line-height: 1; border-radius: 0.35em;\">\n",
       "    Raul Alberto LESCANO\n",
       "    <span style=\"font-size: 0.8em; font-weight: bold; line-height: 1; border-radius: 0.35em; text-transform: uppercase; vertical-align: middle; margin-left: 0.5rem\">FIRMANTE_FAMILIAR</span>\n",
       "</mark>\n",
       ", nacida el \n",
       "<mark class=\"entity\" style=\"background: #ddd; padding: 0.45em 0.6em; margin: 0 0.25em; line-height: 1; border-radius: 0.35em;\">\n",
       "    10 de marzo de 1966\n",
       "    <span style=\"font-size: 0.8em; font-weight: bold; line-height: 1; border-radius: 0.35em; text-transform: uppercase; vertical-align: middle; margin-left: 0.5rem\">FECHA_NACIMIENTO</span>\n",
       "</mark>\n",
       ", comerciante, titular del documento nacional de identidad numero \n",
       "<mark class=\"entity\" style=\"background: #ddd; padding: 0.45em 0.6em; margin: 0 0.25em; line-height: 1; border-radius: 0.35em;\">\n",
       "    17.636.488\n",
       "    <span style=\"font-size: 0.8em; font-weight: bold; line-height: 1; border-radius: 0.35em; text-transform: uppercase; vertical-align: middle; margin-left: 0.5rem\">FIRMANTES_DNI</span>\n",
       "</mark>\n",
       ", C.U.I.T. 27-17636488-8, y \n",
       "<mark class=\"entity\" style=\"background: #ddd; padding: 0.45em 0.6em; margin: 0 0.25em; line-height: 1; border-radius: 0.35em;\">\n",
       "    Yamila Belen LESCANO\n",
       "    <span style=\"font-size: 0.8em; font-weight: bold; line-height: 1; border-radius: 0.35em; text-transform: uppercase; vertical-align: middle; margin-left: 0.5rem\">FIRMANTES_NOMBRE</span>\n",
       "</mark>\n",
       ", argentina soltera, nacida el \n",
       "<mark class=\"entity\" style=\"background: #ddd; padding: 0.45em 0.6em; margin: 0 0.25em; line-height: 1; border-radius: 0.35em;\">\n",
       "    6 de marzo de 1998\n",
       "    <span style=\"font-size: 0.8em; font-weight: bold; line-height: 1; border-radius: 0.35em; text-transform: uppercase; vertical-align: middle; margin-left: 0.5rem\">FECHA_NACIMIENTO</span>\n",
       "</mark>\n",
       ", comerciante, titular del documento nacional de identidad numero \n",
       "<mark class=\"entity\" style=\"background: #ddd; padding: 0.45em 0.6em; margin: 0 0.25em; line-height: 1; border-radius: 0.35em;\">\n",
       "    41.048.026\n",
       "    <span style=\"font-size: 0.8em; font-weight: bold; line-height: 1; border-radius: 0.35em; text-transform: uppercase; vertical-align: middle; margin-left: 0.5rem\">FIRMANTES_DNI</span>\n",
       "</mark>\n",
       ", C.U.I.L. 27-41048026-9, ambos \n",
       "<mark class=\"entity\" style=\"background: #ddd; padding: 0.45em 0.6em; margin: 0 0.25em; line-height: 1; border-radius: 0.35em;\">\n",
       "    domiciliado en Pico 4785, ciudad autonoma de buenos Aires\n",
       "    <span style=\"font-size: 0.8em; font-weight: bold; line-height: 1; border-radius: 0.35em; text-transform: uppercase; vertical-align: middle; margin-left: 0.5rem\">FIRMANTE_DOMICILIO</span>\n",
       "</mark>\n",
       "; resuelven dejar constituida una \n",
       "<mark class=\"entity\" style=\"background: #ddd; padding: 0.45em 0.6em; margin: 0 0.25em; line-height: 1; border-radius: 0.35em;\">\n",
       "    sociedad de responsabilidad limitada\n",
       "    <span style=\"font-size: 0.8em; font-weight: bold; line-height: 1; border-radius: 0.35em; text-transform: uppercase; vertical-align: middle; margin-left: 0.5rem\">TIPICIDAD</span>\n",
       "</mark>\n",
       " que se regira por la Ley numero 19.550/22.903 y el siguiente estatuto primera La sociedad se denomina &quot;\n",
       "<mark class=\"entity\" style=\"background: #ddd; padding: 0.45em 0.6em; margin: 0 0.25em; line-height: 1; border-radius: 0.35em;\">\n",
       "    CONFECOM S.R.L.&quot;\n",
       "    <span style=\"font-size: 0.8em; font-weight: bold; line-height: 1; border-radius: 0.35em; text-transform: uppercase; vertical-align: middle; margin-left: 0.5rem\">RAZON_SOCIAL</span>\n",
       "</mark>\n",
       "” y tiene su domicilio legal en jurisdiccion de la \n",
       "<mark class=\"entity\" style=\"background: #ddd; padding: 0.45em 0.6em; margin: 0 0.25em; line-height: 1; border-radius: 0.35em;\">\n",
       "    ciudad autonoma de buenos Aires\n",
       "    <span style=\"font-size: 0.8em; font-weight: bold; line-height: 1; border-radius: 0.35em; text-transform: uppercase; vertical-align: middle; margin-left: 0.5rem\">LEGAL_DOMICILIO</span>\n",
       "</mark>\n",
       ", pudiendo establecer agencias o sucursales en cualquier lugar del pais o del extranjero.- segunda Su duracion es de \n",
       "<mark class=\"entity\" style=\"background: #ddd; padding: 0.45em 0.6em; margin: 0 0.25em; line-height: 1; border-radius: 0.35em;\">\n",
       "    99\n",
       "    <span style=\"font-size: 0.8em; font-weight: bold; line-height: 1; border-radius: 0.35em; text-transform: uppercase; vertical-align: middle; margin-left: 0.5rem\">VIGENCIA</span>\n",
       "</mark>\n",
       " años contados a partir de la inscripcion en el registro Publico de Comercio. - TERCERA \n",
       "<mark class=\"entity\" style=\"background: #ddd; padding: 0.45em 0.6em; margin: 0 0.25em; line-height: 1; border-radius: 0.35em;\">\n",
       "    La sociedad tiene por objeto realizar por cuenta propia o de terceros, en forma independiente o asociadas a terceros, dentro o fuera de la republica argentino a las siguientes actividades Compraventa, importacion, exportacion, comercializacion, representacion, fabricacion, refaccion, composicion, confeccion, deposito, transporte, despacho e industrializacion de todo tipo de ropa, indumentaria, calzado y sus derivados, botoneria, merceria, articulos textiles, materias primas, productos y subproductos destinados a la industria del vestido, y demas prendas y accesorios inherentes al ramo. Para el cumplimiento del objeto social, la sociedad tendra plena capacidad juridica para adquirir derechos y contraer obligaciones y ejercer actos que no sean prohibidos por las leyes o este\n",
       "    <span style=\"font-size: 0.8em; font-weight: bold; line-height: 1; border-radius: 0.35em; text-transform: uppercase; vertical-align: middle; margin-left: 0.5rem\">OBJETO_SOCIAL</span>\n",
       "</mark>\n",
       " estatuto.- CUARTA El capital social se fija en la suma de pesos \n",
       "<mark class=\"entity\" style=\"background: #ddd; padding: 0.45em 0.6em; margin: 0 0.25em; line-height: 1; border-radius: 0.35em;\">\n",
       "    cincuenta mil ($50.000)\n",
       "    <span style=\"font-size: 0.8em; font-weight: bold; line-height: 1; border-radius: 0.35em; text-transform: uppercase; vertical-align: middle; margin-left: 0.5rem\">CAPITAL</span>\n",
       "</mark>\n",
       " dividido en 5.000 cuotas de valor nominal $ 10 cada en un 23 por ciento y el resto se integrara dentro de los plazos legales.- QUINTA La administracion y representacion legal estara a cargo de uno o mas gerentes, socios o no, en forma \n",
       "<mark class=\"entity\" style=\"background: #ddd; padding: 0.45em 0.6em; margin: 0 0.25em; line-height: 1; border-radius: 0.35em;\">\n",
       "    individual e indistinta\n",
       "    <span style=\"font-size: 0.8em; font-weight: bold; line-height: 1; border-radius: 0.35em; text-transform: uppercase; vertical-align: middle; margin-left: 0.5rem\">TIPO_REP_LEGAL</span>\n",
       "</mark>\n",
       ", por el \n",
       "<mark class=\"entity\" style=\"background: #ddd; padding: 0.45em 0.6em; margin: 0 0.25em; line-height: 1; border-radius: 0.35em;\">\n",
       "    plazo de duracion de la sociedad\n",
       "    <span style=\"font-size: 0.8em; font-weight: bold; line-height: 1; border-radius: 0.35em; text-transform: uppercase; vertical-align: middle; margin-left: 0.5rem\">MANDATO_DIR</span>\n",
       "</mark>\n",
       " \n",
       "<mark class=\"entity\" style=\"background: #ddd; padding: 0.45em 0.6em; margin: 0 0.25em; line-height: 1; border-radius: 0.35em;\">\n",
       "    En tal caracter tienen todas las facultades para realizar los actos y contrato tendientes al cumplimiento del objeto de la sociedad inclusive los previstos en los articulos 375, del Codigo Civil y Comercial, y 9 del Decreto ley 5.965/63.- Los gerentes garantizaran su gestion mediante la constitucion de una garantia del tipo, modalidades y de los montos no inferiores a los establecidos en las resoluciones vigentes de la autoridad administrativa de control y las que se dicten con posterioridad.-\n",
       "    <span style=\"font-size: 0.8em; font-weight: bold; line-height: 1; border-radius: 0.35em; text-transform: uppercase; vertical-align: middle; margin-left: 0.5rem\">FACULTADES_FIRM</span>\n",
       "</mark>\n",
       " SEXTA Las resoluciones sociales se adoptaran en la forma dispuesta en los arts. 159, primera parte parrafo segundo de la ley 19550.- Rigen las mayorias previstas en el art. 160 de la ley 19.550.- y cada cuota da derecho a un voto. Toda comunicacion o citacion a los socios se sujetara a lo dispuesto en el art. 159 ultimo parrafo de la ley citada.- SEPTIMA Las cuotas son transmisibles rigiendo las disposiciones del art. 153 de la ley 19.550, dejando constancia que para la venta a extraños a la sociedad se requerira la conformidad de la mayoria del capital, estableciendo a favor de los restantes socios un derecho de preferencia en la compra de las cuotas sociales que se vendan.- OCTAVA El ejercicio social cierra el \n",
       "<mark class=\"entity\" style=\"background: #ddd; padding: 0.45em 0.6em; margin: 0 0.25em; line-height: 1; border-radius: 0.35em;\">\n",
       "    31 de Marzo\n",
       "    <span style=\"font-size: 0.8em; font-weight: bold; line-height: 1; border-radius: 0.35em; text-transform: uppercase; vertical-align: middle; margin-left: 0.5rem\">FECHA_CIERRE_EJERCICIO</span>\n",
       "</mark>\n",
       " de cada año, a cuya fecha se realizara el balance general que se pondra a disposiciones de los socios con no menos de 15 dias de anticipacion a su consideracion.- NOVENA De las utilidades liquidas y realizadas se destinaran a) El 5% al fondo de reserva legal, hasta alcanzar el 20% del capital social.- b)El importe que se establezca para retribucion de los gerentes y Cc) El remanente previa deduccion de cualquier otra reserva que los socios dispusieran constituir se distribuira entre los mismos en proporcion al capital integrado.- DECIMA Disuelta la sociedad por cualquiera de ¡as causales previstas en el articulo 94 de la ley 19.550.-, la liquidacion sera pracla ciudad autonoma de a veintidos de febrero de dos argentina escribano autorizante comparecen Dora na, nacida e1 10 de marzo de 1966, casada 'on Raul Alberto Lescano». comerciante, entidad 17.636.488, CO ER 27-17636488- nacida el 6 de marzo d ANO, argentina te, documento nacional de identidad 41.0481026-9 », ambas con «Aomicilio real en Pic personas que identifico de acuerdo ya relacionada que en copia autentica INTERVIENEN por si y manifiestan ser soci -iedad denominada &quot;* CONFECOM s.R.b.”,. &lt;</div></span>"
      ],
      "text/plain": [
       "<IPython.core.display.HTML object>"
      ]
     },
     "metadata": {},
     "output_type": "display_data"
    }
   ],
   "source": [
    "from spacy import displacy\n",
    "\n",
    "displacy.render(doc_0,style='ent')"
   ]
  },
  {
   "cell_type": "markdown",
   "metadata": {},
   "source": [
    "### create_blank_ner"
   ]
  },
  {
   "cell_type": "markdown",
   "metadata": {},
   "source": [
    "Creates a new nlp model with only one object in pipeline, called ner.\n",
    "\n",
    "Parameters: <br>\n",
    "\n",
    "- __training_data:__ `[type]` <br>\n",
    "The data required to train the model. <br>\n",
    "\n",
    "- __language:__ `str, optional` <br>\n",
    "The language of the model you want to train, by default `es`. <br>\n",
    "\n",
    "Returns: <br>\n",
    "\n",
    "- __`spacy.lang.es.Spanish`__ <br>\n",
    "An spacy object to process text to extraxt entities."
   ]
  },
  {
   "cell_type": "code",
   "execution_count": null,
   "metadata": {},
   "outputs": [],
   "source": []
  }
 ],
 "metadata": {
  "kernelspec": {
   "display_name": "Python 3",
   "language": "python",
   "name": "python3"
  },
  "language_info": {
   "codemirror_mode": {
    "name": "ipython",
    "version": 3
   },
   "file_extension": ".py",
   "mimetype": "text/x-python",
   "name": "python",
   "nbconvert_exporter": "python",
   "pygments_lexer": "ipython3",
   "version": "3.7.6"
  }
 },
 "nbformat": 4,
 "nbformat_minor": 4
}
